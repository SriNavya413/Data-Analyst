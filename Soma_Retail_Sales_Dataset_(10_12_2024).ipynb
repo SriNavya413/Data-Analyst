{
  "nbformat": 4,
  "nbformat_minor": 0,
  "metadata": {
    "colab": {
      "provenance": [],
      "authorship_tag": "ABX9TyOvr/inQPqgeuxy8AVUyTF7",
      "include_colab_link": true
    },
    "kernelspec": {
      "name": "python3",
      "display_name": "Python 3"
    },
    "language_info": {
      "name": "python"
    }
  },
  "cells": [
    {
      "cell_type": "markdown",
      "metadata": {
        "id": "view-in-github",
        "colab_type": "text"
      },
      "source": [
        "<a href=\"https://colab.research.google.com/github/SriNavya413/Data-Analyst/blob/main/Soma_Retail_Sales_Dataset_(10_12_2024).ipynb\" target=\"_parent\"><img src=\"https://colab.research.google.com/assets/colab-badge.svg\" alt=\"Open In Colab\"/></a>"
      ]
    },
    {
      "cell_type": "code",
      "execution_count": 1,
      "metadata": {
        "id": "WNSzzJRVyvxm"
      },
      "outputs": [],
      "source": [
        "import pandas as pd"
      ]
    },
    {
      "cell_type": "code",
      "source": [
        "import numpy as np"
      ],
      "metadata": {
        "id": "ln2U4Jdiy40p"
      },
      "execution_count": 2,
      "outputs": []
    },
    {
      "cell_type": "code",
      "source": [
        "data = pd.read_csv('/content/retail_sales_dataset.csv')"
      ],
      "metadata": {
        "id": "7euYjXiQy8jp"
      },
      "execution_count": 3,
      "outputs": []
    },
    {
      "cell_type": "code",
      "source": [
        "data"
      ],
      "metadata": {
        "colab": {
          "base_uri": "https://localhost:8080/",
          "height": 423
        },
        "id": "vgsTkuCd2Auu",
        "outputId": "0a85a52a-db6d-4654-8500-9555c4442f04"
      },
      "execution_count": 4,
      "outputs": [
        {
          "output_type": "execute_result",
          "data": {
            "text/plain": [
              "     Transaction ID        Date Customer ID  Gender  Age Product Category  \\\n",
              "0                 1  2023-11-24     CUST001    Male   34           Beauty   \n",
              "1                 2  2023-02-27     CUST002  Female   26         Clothing   \n",
              "2                 3  2023-01-13     CUST003    Male   50      Electronics   \n",
              "3                 4  2023-05-21     CUST004    Male   37         Clothing   \n",
              "4                 5  2023-05-06     CUST005    Male   30           Beauty   \n",
              "..              ...         ...         ...     ...  ...              ...   \n",
              "995             996  2023-05-16     CUST996    Male   62         Clothing   \n",
              "996             997  2023-11-17     CUST997    Male   52           Beauty   \n",
              "997             998  2023-10-29     CUST998  Female   23           Beauty   \n",
              "998             999  2023-12-05     CUST999  Female   36      Electronics   \n",
              "999            1000  2023-04-12    CUST1000    Male   47      Electronics   \n",
              "\n",
              "     Quantity  Price per Unit  Total Amount  \n",
              "0           3              50           150  \n",
              "1           2             500          1000  \n",
              "2           1              30            30  \n",
              "3           1             500           500  \n",
              "4           2              50           100  \n",
              "..        ...             ...           ...  \n",
              "995         1              50            50  \n",
              "996         3              30            90  \n",
              "997         4              25           100  \n",
              "998         3              50           150  \n",
              "999         4              30           120  \n",
              "\n",
              "[1000 rows x 9 columns]"
            ],
            "text/html": [
              "\n",
              "  <div id=\"df-6e9cb78b-69fb-4eab-afbc-35c6dc0e0273\" class=\"colab-df-container\">\n",
              "    <div>\n",
              "<style scoped>\n",
              "    .dataframe tbody tr th:only-of-type {\n",
              "        vertical-align: middle;\n",
              "    }\n",
              "\n",
              "    .dataframe tbody tr th {\n",
              "        vertical-align: top;\n",
              "    }\n",
              "\n",
              "    .dataframe thead th {\n",
              "        text-align: right;\n",
              "    }\n",
              "</style>\n",
              "<table border=\"1\" class=\"dataframe\">\n",
              "  <thead>\n",
              "    <tr style=\"text-align: right;\">\n",
              "      <th></th>\n",
              "      <th>Transaction ID</th>\n",
              "      <th>Date</th>\n",
              "      <th>Customer ID</th>\n",
              "      <th>Gender</th>\n",
              "      <th>Age</th>\n",
              "      <th>Product Category</th>\n",
              "      <th>Quantity</th>\n",
              "      <th>Price per Unit</th>\n",
              "      <th>Total Amount</th>\n",
              "    </tr>\n",
              "  </thead>\n",
              "  <tbody>\n",
              "    <tr>\n",
              "      <th>0</th>\n",
              "      <td>1</td>\n",
              "      <td>2023-11-24</td>\n",
              "      <td>CUST001</td>\n",
              "      <td>Male</td>\n",
              "      <td>34</td>\n",
              "      <td>Beauty</td>\n",
              "      <td>3</td>\n",
              "      <td>50</td>\n",
              "      <td>150</td>\n",
              "    </tr>\n",
              "    <tr>\n",
              "      <th>1</th>\n",
              "      <td>2</td>\n",
              "      <td>2023-02-27</td>\n",
              "      <td>CUST002</td>\n",
              "      <td>Female</td>\n",
              "      <td>26</td>\n",
              "      <td>Clothing</td>\n",
              "      <td>2</td>\n",
              "      <td>500</td>\n",
              "      <td>1000</td>\n",
              "    </tr>\n",
              "    <tr>\n",
              "      <th>2</th>\n",
              "      <td>3</td>\n",
              "      <td>2023-01-13</td>\n",
              "      <td>CUST003</td>\n",
              "      <td>Male</td>\n",
              "      <td>50</td>\n",
              "      <td>Electronics</td>\n",
              "      <td>1</td>\n",
              "      <td>30</td>\n",
              "      <td>30</td>\n",
              "    </tr>\n",
              "    <tr>\n",
              "      <th>3</th>\n",
              "      <td>4</td>\n",
              "      <td>2023-05-21</td>\n",
              "      <td>CUST004</td>\n",
              "      <td>Male</td>\n",
              "      <td>37</td>\n",
              "      <td>Clothing</td>\n",
              "      <td>1</td>\n",
              "      <td>500</td>\n",
              "      <td>500</td>\n",
              "    </tr>\n",
              "    <tr>\n",
              "      <th>4</th>\n",
              "      <td>5</td>\n",
              "      <td>2023-05-06</td>\n",
              "      <td>CUST005</td>\n",
              "      <td>Male</td>\n",
              "      <td>30</td>\n",
              "      <td>Beauty</td>\n",
              "      <td>2</td>\n",
              "      <td>50</td>\n",
              "      <td>100</td>\n",
              "    </tr>\n",
              "    <tr>\n",
              "      <th>...</th>\n",
              "      <td>...</td>\n",
              "      <td>...</td>\n",
              "      <td>...</td>\n",
              "      <td>...</td>\n",
              "      <td>...</td>\n",
              "      <td>...</td>\n",
              "      <td>...</td>\n",
              "      <td>...</td>\n",
              "      <td>...</td>\n",
              "    </tr>\n",
              "    <tr>\n",
              "      <th>995</th>\n",
              "      <td>996</td>\n",
              "      <td>2023-05-16</td>\n",
              "      <td>CUST996</td>\n",
              "      <td>Male</td>\n",
              "      <td>62</td>\n",
              "      <td>Clothing</td>\n",
              "      <td>1</td>\n",
              "      <td>50</td>\n",
              "      <td>50</td>\n",
              "    </tr>\n",
              "    <tr>\n",
              "      <th>996</th>\n",
              "      <td>997</td>\n",
              "      <td>2023-11-17</td>\n",
              "      <td>CUST997</td>\n",
              "      <td>Male</td>\n",
              "      <td>52</td>\n",
              "      <td>Beauty</td>\n",
              "      <td>3</td>\n",
              "      <td>30</td>\n",
              "      <td>90</td>\n",
              "    </tr>\n",
              "    <tr>\n",
              "      <th>997</th>\n",
              "      <td>998</td>\n",
              "      <td>2023-10-29</td>\n",
              "      <td>CUST998</td>\n",
              "      <td>Female</td>\n",
              "      <td>23</td>\n",
              "      <td>Beauty</td>\n",
              "      <td>4</td>\n",
              "      <td>25</td>\n",
              "      <td>100</td>\n",
              "    </tr>\n",
              "    <tr>\n",
              "      <th>998</th>\n",
              "      <td>999</td>\n",
              "      <td>2023-12-05</td>\n",
              "      <td>CUST999</td>\n",
              "      <td>Female</td>\n",
              "      <td>36</td>\n",
              "      <td>Electronics</td>\n",
              "      <td>3</td>\n",
              "      <td>50</td>\n",
              "      <td>150</td>\n",
              "    </tr>\n",
              "    <tr>\n",
              "      <th>999</th>\n",
              "      <td>1000</td>\n",
              "      <td>2023-04-12</td>\n",
              "      <td>CUST1000</td>\n",
              "      <td>Male</td>\n",
              "      <td>47</td>\n",
              "      <td>Electronics</td>\n",
              "      <td>4</td>\n",
              "      <td>30</td>\n",
              "      <td>120</td>\n",
              "    </tr>\n",
              "  </tbody>\n",
              "</table>\n",
              "<p>1000 rows × 9 columns</p>\n",
              "</div>\n",
              "    <div class=\"colab-df-buttons\">\n",
              "\n",
              "  <div class=\"colab-df-container\">\n",
              "    <button class=\"colab-df-convert\" onclick=\"convertToInteractive('df-6e9cb78b-69fb-4eab-afbc-35c6dc0e0273')\"\n",
              "            title=\"Convert this dataframe to an interactive table.\"\n",
              "            style=\"display:none;\">\n",
              "\n",
              "  <svg xmlns=\"http://www.w3.org/2000/svg\" height=\"24px\" viewBox=\"0 -960 960 960\">\n",
              "    <path d=\"M120-120v-720h720v720H120Zm60-500h600v-160H180v160Zm220 220h160v-160H400v160Zm0 220h160v-160H400v160ZM180-400h160v-160H180v160Zm440 0h160v-160H620v160ZM180-180h160v-160H180v160Zm440 0h160v-160H620v160Z\"/>\n",
              "  </svg>\n",
              "    </button>\n",
              "\n",
              "  <style>\n",
              "    .colab-df-container {\n",
              "      display:flex;\n",
              "      gap: 12px;\n",
              "    }\n",
              "\n",
              "    .colab-df-convert {\n",
              "      background-color: #E8F0FE;\n",
              "      border: none;\n",
              "      border-radius: 50%;\n",
              "      cursor: pointer;\n",
              "      display: none;\n",
              "      fill: #1967D2;\n",
              "      height: 32px;\n",
              "      padding: 0 0 0 0;\n",
              "      width: 32px;\n",
              "    }\n",
              "\n",
              "    .colab-df-convert:hover {\n",
              "      background-color: #E2EBFA;\n",
              "      box-shadow: 0px 1px 2px rgba(60, 64, 67, 0.3), 0px 1px 3px 1px rgba(60, 64, 67, 0.15);\n",
              "      fill: #174EA6;\n",
              "    }\n",
              "\n",
              "    .colab-df-buttons div {\n",
              "      margin-bottom: 4px;\n",
              "    }\n",
              "\n",
              "    [theme=dark] .colab-df-convert {\n",
              "      background-color: #3B4455;\n",
              "      fill: #D2E3FC;\n",
              "    }\n",
              "\n",
              "    [theme=dark] .colab-df-convert:hover {\n",
              "      background-color: #434B5C;\n",
              "      box-shadow: 0px 1px 3px 1px rgba(0, 0, 0, 0.15);\n",
              "      filter: drop-shadow(0px 1px 2px rgba(0, 0, 0, 0.3));\n",
              "      fill: #FFFFFF;\n",
              "    }\n",
              "  </style>\n",
              "\n",
              "    <script>\n",
              "      const buttonEl =\n",
              "        document.querySelector('#df-6e9cb78b-69fb-4eab-afbc-35c6dc0e0273 button.colab-df-convert');\n",
              "      buttonEl.style.display =\n",
              "        google.colab.kernel.accessAllowed ? 'block' : 'none';\n",
              "\n",
              "      async function convertToInteractive(key) {\n",
              "        const element = document.querySelector('#df-6e9cb78b-69fb-4eab-afbc-35c6dc0e0273');\n",
              "        const dataTable =\n",
              "          await google.colab.kernel.invokeFunction('convertToInteractive',\n",
              "                                                    [key], {});\n",
              "        if (!dataTable) return;\n",
              "\n",
              "        const docLinkHtml = 'Like what you see? Visit the ' +\n",
              "          '<a target=\"_blank\" href=https://colab.research.google.com/notebooks/data_table.ipynb>data table notebook</a>'\n",
              "          + ' to learn more about interactive tables.';\n",
              "        element.innerHTML = '';\n",
              "        dataTable['output_type'] = 'display_data';\n",
              "        await google.colab.output.renderOutput(dataTable, element);\n",
              "        const docLink = document.createElement('div');\n",
              "        docLink.innerHTML = docLinkHtml;\n",
              "        element.appendChild(docLink);\n",
              "      }\n",
              "    </script>\n",
              "  </div>\n",
              "\n",
              "\n",
              "<div id=\"df-8a3be86d-695a-414f-8d56-f176704f3fbf\">\n",
              "  <button class=\"colab-df-quickchart\" onclick=\"quickchart('df-8a3be86d-695a-414f-8d56-f176704f3fbf')\"\n",
              "            title=\"Suggest charts\"\n",
              "            style=\"display:none;\">\n",
              "\n",
              "<svg xmlns=\"http://www.w3.org/2000/svg\" height=\"24px\"viewBox=\"0 0 24 24\"\n",
              "     width=\"24px\">\n",
              "    <g>\n",
              "        <path d=\"M19 3H5c-1.1 0-2 .9-2 2v14c0 1.1.9 2 2 2h14c1.1 0 2-.9 2-2V5c0-1.1-.9-2-2-2zM9 17H7v-7h2v7zm4 0h-2V7h2v10zm4 0h-2v-4h2v4z\"/>\n",
              "    </g>\n",
              "</svg>\n",
              "  </button>\n",
              "\n",
              "<style>\n",
              "  .colab-df-quickchart {\n",
              "      --bg-color: #E8F0FE;\n",
              "      --fill-color: #1967D2;\n",
              "      --hover-bg-color: #E2EBFA;\n",
              "      --hover-fill-color: #174EA6;\n",
              "      --disabled-fill-color: #AAA;\n",
              "      --disabled-bg-color: #DDD;\n",
              "  }\n",
              "\n",
              "  [theme=dark] .colab-df-quickchart {\n",
              "      --bg-color: #3B4455;\n",
              "      --fill-color: #D2E3FC;\n",
              "      --hover-bg-color: #434B5C;\n",
              "      --hover-fill-color: #FFFFFF;\n",
              "      --disabled-bg-color: #3B4455;\n",
              "      --disabled-fill-color: #666;\n",
              "  }\n",
              "\n",
              "  .colab-df-quickchart {\n",
              "    background-color: var(--bg-color);\n",
              "    border: none;\n",
              "    border-radius: 50%;\n",
              "    cursor: pointer;\n",
              "    display: none;\n",
              "    fill: var(--fill-color);\n",
              "    height: 32px;\n",
              "    padding: 0;\n",
              "    width: 32px;\n",
              "  }\n",
              "\n",
              "  .colab-df-quickchart:hover {\n",
              "    background-color: var(--hover-bg-color);\n",
              "    box-shadow: 0 1px 2px rgba(60, 64, 67, 0.3), 0 1px 3px 1px rgba(60, 64, 67, 0.15);\n",
              "    fill: var(--button-hover-fill-color);\n",
              "  }\n",
              "\n",
              "  .colab-df-quickchart-complete:disabled,\n",
              "  .colab-df-quickchart-complete:disabled:hover {\n",
              "    background-color: var(--disabled-bg-color);\n",
              "    fill: var(--disabled-fill-color);\n",
              "    box-shadow: none;\n",
              "  }\n",
              "\n",
              "  .colab-df-spinner {\n",
              "    border: 2px solid var(--fill-color);\n",
              "    border-color: transparent;\n",
              "    border-bottom-color: var(--fill-color);\n",
              "    animation:\n",
              "      spin 1s steps(1) infinite;\n",
              "  }\n",
              "\n",
              "  @keyframes spin {\n",
              "    0% {\n",
              "      border-color: transparent;\n",
              "      border-bottom-color: var(--fill-color);\n",
              "      border-left-color: var(--fill-color);\n",
              "    }\n",
              "    20% {\n",
              "      border-color: transparent;\n",
              "      border-left-color: var(--fill-color);\n",
              "      border-top-color: var(--fill-color);\n",
              "    }\n",
              "    30% {\n",
              "      border-color: transparent;\n",
              "      border-left-color: var(--fill-color);\n",
              "      border-top-color: var(--fill-color);\n",
              "      border-right-color: var(--fill-color);\n",
              "    }\n",
              "    40% {\n",
              "      border-color: transparent;\n",
              "      border-right-color: var(--fill-color);\n",
              "      border-top-color: var(--fill-color);\n",
              "    }\n",
              "    60% {\n",
              "      border-color: transparent;\n",
              "      border-right-color: var(--fill-color);\n",
              "    }\n",
              "    80% {\n",
              "      border-color: transparent;\n",
              "      border-right-color: var(--fill-color);\n",
              "      border-bottom-color: var(--fill-color);\n",
              "    }\n",
              "    90% {\n",
              "      border-color: transparent;\n",
              "      border-bottom-color: var(--fill-color);\n",
              "    }\n",
              "  }\n",
              "</style>\n",
              "\n",
              "  <script>\n",
              "    async function quickchart(key) {\n",
              "      const quickchartButtonEl =\n",
              "        document.querySelector('#' + key + ' button');\n",
              "      quickchartButtonEl.disabled = true;  // To prevent multiple clicks.\n",
              "      quickchartButtonEl.classList.add('colab-df-spinner');\n",
              "      try {\n",
              "        const charts = await google.colab.kernel.invokeFunction(\n",
              "            'suggestCharts', [key], {});\n",
              "      } catch (error) {\n",
              "        console.error('Error during call to suggestCharts:', error);\n",
              "      }\n",
              "      quickchartButtonEl.classList.remove('colab-df-spinner');\n",
              "      quickchartButtonEl.classList.add('colab-df-quickchart-complete');\n",
              "    }\n",
              "    (() => {\n",
              "      let quickchartButtonEl =\n",
              "        document.querySelector('#df-8a3be86d-695a-414f-8d56-f176704f3fbf button');\n",
              "      quickchartButtonEl.style.display =\n",
              "        google.colab.kernel.accessAllowed ? 'block' : 'none';\n",
              "    })();\n",
              "  </script>\n",
              "</div>\n",
              "\n",
              "  <div id=\"id_50cb1e36-2347-4120-91e4-8c4dc3b1a5a8\">\n",
              "    <style>\n",
              "      .colab-df-generate {\n",
              "        background-color: #E8F0FE;\n",
              "        border: none;\n",
              "        border-radius: 50%;\n",
              "        cursor: pointer;\n",
              "        display: none;\n",
              "        fill: #1967D2;\n",
              "        height: 32px;\n",
              "        padding: 0 0 0 0;\n",
              "        width: 32px;\n",
              "      }\n",
              "\n",
              "      .colab-df-generate:hover {\n",
              "        background-color: #E2EBFA;\n",
              "        box-shadow: 0px 1px 2px rgba(60, 64, 67, 0.3), 0px 1px 3px 1px rgba(60, 64, 67, 0.15);\n",
              "        fill: #174EA6;\n",
              "      }\n",
              "\n",
              "      [theme=dark] .colab-df-generate {\n",
              "        background-color: #3B4455;\n",
              "        fill: #D2E3FC;\n",
              "      }\n",
              "\n",
              "      [theme=dark] .colab-df-generate:hover {\n",
              "        background-color: #434B5C;\n",
              "        box-shadow: 0px 1px 3px 1px rgba(0, 0, 0, 0.15);\n",
              "        filter: drop-shadow(0px 1px 2px rgba(0, 0, 0, 0.3));\n",
              "        fill: #FFFFFF;\n",
              "      }\n",
              "    </style>\n",
              "    <button class=\"colab-df-generate\" onclick=\"generateWithVariable('data')\"\n",
              "            title=\"Generate code using this dataframe.\"\n",
              "            style=\"display:none;\">\n",
              "\n",
              "  <svg xmlns=\"http://www.w3.org/2000/svg\" height=\"24px\"viewBox=\"0 0 24 24\"\n",
              "       width=\"24px\">\n",
              "    <path d=\"M7,19H8.4L18.45,9,17,7.55,7,17.6ZM5,21V16.75L18.45,3.32a2,2,0,0,1,2.83,0l1.4,1.43a1.91,1.91,0,0,1,.58,1.4,1.91,1.91,0,0,1-.58,1.4L9.25,21ZM18.45,9,17,7.55Zm-12,3A5.31,5.31,0,0,0,4.9,8.1,5.31,5.31,0,0,0,1,6.5,5.31,5.31,0,0,0,4.9,4.9,5.31,5.31,0,0,0,6.5,1,5.31,5.31,0,0,0,8.1,4.9,5.31,5.31,0,0,0,12,6.5,5.46,5.46,0,0,0,6.5,12Z\"/>\n",
              "  </svg>\n",
              "    </button>\n",
              "    <script>\n",
              "      (() => {\n",
              "      const buttonEl =\n",
              "        document.querySelector('#id_50cb1e36-2347-4120-91e4-8c4dc3b1a5a8 button.colab-df-generate');\n",
              "      buttonEl.style.display =\n",
              "        google.colab.kernel.accessAllowed ? 'block' : 'none';\n",
              "\n",
              "      buttonEl.onclick = () => {\n",
              "        google.colab.notebook.generateWithVariable('data');\n",
              "      }\n",
              "      })();\n",
              "    </script>\n",
              "  </div>\n",
              "\n",
              "    </div>\n",
              "  </div>\n"
            ],
            "application/vnd.google.colaboratory.intrinsic+json": {
              "type": "dataframe",
              "variable_name": "data",
              "summary": "{\n  \"name\": \"data\",\n  \"rows\": 1000,\n  \"fields\": [\n    {\n      \"column\": \"Transaction ID\",\n      \"properties\": {\n        \"dtype\": \"number\",\n        \"std\": 288,\n        \"min\": 1,\n        \"max\": 1000,\n        \"num_unique_values\": 1000,\n        \"samples\": [\n          522,\n          738,\n          741\n        ],\n        \"semantic_type\": \"\",\n        \"description\": \"\"\n      }\n    },\n    {\n      \"column\": \"Date\",\n      \"properties\": {\n        \"dtype\": \"object\",\n        \"num_unique_values\": 345,\n        \"samples\": [\n          \"2023-04-04\",\n          \"2023-04-13\",\n          \"2023-04-15\"\n        ],\n        \"semantic_type\": \"\",\n        \"description\": \"\"\n      }\n    },\n    {\n      \"column\": \"Customer ID\",\n      \"properties\": {\n        \"dtype\": \"string\",\n        \"num_unique_values\": 1000,\n        \"samples\": [\n          \"CUST522\",\n          \"CUST738\",\n          \"CUST741\"\n        ],\n        \"semantic_type\": \"\",\n        \"description\": \"\"\n      }\n    },\n    {\n      \"column\": \"Gender\",\n      \"properties\": {\n        \"dtype\": \"category\",\n        \"num_unique_values\": 2,\n        \"samples\": [\n          \"Female\",\n          \"Male\"\n        ],\n        \"semantic_type\": \"\",\n        \"description\": \"\"\n      }\n    },\n    {\n      \"column\": \"Age\",\n      \"properties\": {\n        \"dtype\": \"number\",\n        \"std\": 13,\n        \"min\": 18,\n        \"max\": 64,\n        \"num_unique_values\": 47,\n        \"samples\": [\n          48,\n          61\n        ],\n        \"semantic_type\": \"\",\n        \"description\": \"\"\n      }\n    },\n    {\n      \"column\": \"Product Category\",\n      \"properties\": {\n        \"dtype\": \"category\",\n        \"num_unique_values\": 3,\n        \"samples\": [\n          \"Beauty\",\n          \"Clothing\"\n        ],\n        \"semantic_type\": \"\",\n        \"description\": \"\"\n      }\n    },\n    {\n      \"column\": \"Quantity\",\n      \"properties\": {\n        \"dtype\": \"number\",\n        \"std\": 1,\n        \"min\": 1,\n        \"max\": 4,\n        \"num_unique_values\": 4,\n        \"samples\": [\n          2,\n          4\n        ],\n        \"semantic_type\": \"\",\n        \"description\": \"\"\n      }\n    },\n    {\n      \"column\": \"Price per Unit\",\n      \"properties\": {\n        \"dtype\": \"number\",\n        \"std\": 189,\n        \"min\": 25,\n        \"max\": 500,\n        \"num_unique_values\": 5,\n        \"samples\": [\n          500,\n          300\n        ],\n        \"semantic_type\": \"\",\n        \"description\": \"\"\n      }\n    },\n    {\n      \"column\": \"Total Amount\",\n      \"properties\": {\n        \"dtype\": \"number\",\n        \"std\": 559,\n        \"min\": 25,\n        \"max\": 2000,\n        \"num_unique_values\": 18,\n        \"samples\": [\n          150,\n          1000\n        ],\n        \"semantic_type\": \"\",\n        \"description\": \"\"\n      }\n    }\n  ]\n}"
            }
          },
          "metadata": {},
          "execution_count": 4
        }
      ]
    },
    {
      "cell_type": "markdown",
      "source": [
        "# **1. Data Loading and Inspection**"
      ],
      "metadata": {
        "id": "Ukm8-OyWZo_t"
      }
    },
    {
      "cell_type": "markdown",
      "source": [
        "# **Task-1:Load the dataset into a Pandas**"
      ],
      "metadata": {
        "id": "QvXRKTsBZv6M"
      }
    },
    {
      "cell_type": "code",
      "source": [
        "# prompt: Load the dataset into a Pandas DataFrame.\n",
        "\n",
        "# Assuming the file retail_sales_dataset.csv is in the /content/ directory.\n",
        "# If it's elsewhere, adjust the path accordingly.\n",
        "\n",
        "# No need to re-import pandas and numpy since they are already imported.\n",
        "# data = pd.read_csv('/content/retail_sales_dataset.csv') # Already done in the provided code\n",
        "\n",
        "# Display some info, to verify load was successful\n",
        "print(data.head())\n",
        "print(data.info())"
      ],
      "metadata": {
        "colab": {
          "base_uri": "https://localhost:8080/"
        },
        "id": "fkkyQ70U3TX9",
        "outputId": "0a4627b3-5673-4072-80dc-3cd94eb42817"
      },
      "execution_count": 5,
      "outputs": [
        {
          "output_type": "stream",
          "name": "stdout",
          "text": [
            "   Transaction ID        Date Customer ID  Gender  Age Product Category  \\\n",
            "0               1  2023-11-24     CUST001    Male   34           Beauty   \n",
            "1               2  2023-02-27     CUST002  Female   26         Clothing   \n",
            "2               3  2023-01-13     CUST003    Male   50      Electronics   \n",
            "3               4  2023-05-21     CUST004    Male   37         Clothing   \n",
            "4               5  2023-05-06     CUST005    Male   30           Beauty   \n",
            "\n",
            "   Quantity  Price per Unit  Total Amount  \n",
            "0         3              50           150  \n",
            "1         2             500          1000  \n",
            "2         1              30            30  \n",
            "3         1             500           500  \n",
            "4         2              50           100  \n",
            "<class 'pandas.core.frame.DataFrame'>\n",
            "RangeIndex: 1000 entries, 0 to 999\n",
            "Data columns (total 9 columns):\n",
            " #   Column            Non-Null Count  Dtype \n",
            "---  ------            --------------  ----- \n",
            " 0   Transaction ID    1000 non-null   int64 \n",
            " 1   Date              1000 non-null   object\n",
            " 2   Customer ID       1000 non-null   object\n",
            " 3   Gender            1000 non-null   object\n",
            " 4   Age               1000 non-null   int64 \n",
            " 5   Product Category  1000 non-null   object\n",
            " 6   Quantity          1000 non-null   int64 \n",
            " 7   Price per Unit    1000 non-null   int64 \n",
            " 8   Total Amount      1000 non-null   int64 \n",
            "dtypes: int64(5), object(4)\n",
            "memory usage: 70.4+ KB\n",
            "None\n"
          ]
        }
      ]
    },
    {
      "cell_type": "markdown",
      "source": [
        "# **Task-2:\tDisplay the first 10 rows of the dataset**."
      ],
      "metadata": {
        "id": "AEXLBzNeZ2uU"
      }
    },
    {
      "cell_type": "code",
      "source": [
        "data.head(11)"
      ],
      "metadata": {
        "colab": {
          "base_uri": "https://localhost:8080/",
          "height": 394
        },
        "id": "i5ZcDfft4B1U",
        "outputId": "e6befb92-2d85-4465-a5eb-97355e189165"
      },
      "execution_count": 6,
      "outputs": [
        {
          "output_type": "execute_result",
          "data": {
            "text/plain": [
              "    Transaction ID        Date Customer ID  Gender  Age Product Category  \\\n",
              "0                1  2023-11-24     CUST001    Male   34           Beauty   \n",
              "1                2  2023-02-27     CUST002  Female   26         Clothing   \n",
              "2                3  2023-01-13     CUST003    Male   50      Electronics   \n",
              "3                4  2023-05-21     CUST004    Male   37         Clothing   \n",
              "4                5  2023-05-06     CUST005    Male   30           Beauty   \n",
              "5                6  2023-04-25     CUST006  Female   45           Beauty   \n",
              "6                7  2023-03-13     CUST007    Male   46         Clothing   \n",
              "7                8  2023-02-22     CUST008    Male   30      Electronics   \n",
              "8                9  2023-12-13     CUST009    Male   63      Electronics   \n",
              "9               10  2023-10-07     CUST010  Female   52         Clothing   \n",
              "10              11  2023-02-14     CUST011    Male   23         Clothing   \n",
              "\n",
              "    Quantity  Price per Unit  Total Amount  \n",
              "0          3              50           150  \n",
              "1          2             500          1000  \n",
              "2          1              30            30  \n",
              "3          1             500           500  \n",
              "4          2              50           100  \n",
              "5          1              30            30  \n",
              "6          2              25            50  \n",
              "7          4              25           100  \n",
              "8          2             300           600  \n",
              "9          4              50           200  \n",
              "10         2              50           100  "
            ],
            "text/html": [
              "\n",
              "  <div id=\"df-17c8c69f-8576-4d36-9a91-cc84f7fdbfa0\" class=\"colab-df-container\">\n",
              "    <div>\n",
              "<style scoped>\n",
              "    .dataframe tbody tr th:only-of-type {\n",
              "        vertical-align: middle;\n",
              "    }\n",
              "\n",
              "    .dataframe tbody tr th {\n",
              "        vertical-align: top;\n",
              "    }\n",
              "\n",
              "    .dataframe thead th {\n",
              "        text-align: right;\n",
              "    }\n",
              "</style>\n",
              "<table border=\"1\" class=\"dataframe\">\n",
              "  <thead>\n",
              "    <tr style=\"text-align: right;\">\n",
              "      <th></th>\n",
              "      <th>Transaction ID</th>\n",
              "      <th>Date</th>\n",
              "      <th>Customer ID</th>\n",
              "      <th>Gender</th>\n",
              "      <th>Age</th>\n",
              "      <th>Product Category</th>\n",
              "      <th>Quantity</th>\n",
              "      <th>Price per Unit</th>\n",
              "      <th>Total Amount</th>\n",
              "    </tr>\n",
              "  </thead>\n",
              "  <tbody>\n",
              "    <tr>\n",
              "      <th>0</th>\n",
              "      <td>1</td>\n",
              "      <td>2023-11-24</td>\n",
              "      <td>CUST001</td>\n",
              "      <td>Male</td>\n",
              "      <td>34</td>\n",
              "      <td>Beauty</td>\n",
              "      <td>3</td>\n",
              "      <td>50</td>\n",
              "      <td>150</td>\n",
              "    </tr>\n",
              "    <tr>\n",
              "      <th>1</th>\n",
              "      <td>2</td>\n",
              "      <td>2023-02-27</td>\n",
              "      <td>CUST002</td>\n",
              "      <td>Female</td>\n",
              "      <td>26</td>\n",
              "      <td>Clothing</td>\n",
              "      <td>2</td>\n",
              "      <td>500</td>\n",
              "      <td>1000</td>\n",
              "    </tr>\n",
              "    <tr>\n",
              "      <th>2</th>\n",
              "      <td>3</td>\n",
              "      <td>2023-01-13</td>\n",
              "      <td>CUST003</td>\n",
              "      <td>Male</td>\n",
              "      <td>50</td>\n",
              "      <td>Electronics</td>\n",
              "      <td>1</td>\n",
              "      <td>30</td>\n",
              "      <td>30</td>\n",
              "    </tr>\n",
              "    <tr>\n",
              "      <th>3</th>\n",
              "      <td>4</td>\n",
              "      <td>2023-05-21</td>\n",
              "      <td>CUST004</td>\n",
              "      <td>Male</td>\n",
              "      <td>37</td>\n",
              "      <td>Clothing</td>\n",
              "      <td>1</td>\n",
              "      <td>500</td>\n",
              "      <td>500</td>\n",
              "    </tr>\n",
              "    <tr>\n",
              "      <th>4</th>\n",
              "      <td>5</td>\n",
              "      <td>2023-05-06</td>\n",
              "      <td>CUST005</td>\n",
              "      <td>Male</td>\n",
              "      <td>30</td>\n",
              "      <td>Beauty</td>\n",
              "      <td>2</td>\n",
              "      <td>50</td>\n",
              "      <td>100</td>\n",
              "    </tr>\n",
              "    <tr>\n",
              "      <th>5</th>\n",
              "      <td>6</td>\n",
              "      <td>2023-04-25</td>\n",
              "      <td>CUST006</td>\n",
              "      <td>Female</td>\n",
              "      <td>45</td>\n",
              "      <td>Beauty</td>\n",
              "      <td>1</td>\n",
              "      <td>30</td>\n",
              "      <td>30</td>\n",
              "    </tr>\n",
              "    <tr>\n",
              "      <th>6</th>\n",
              "      <td>7</td>\n",
              "      <td>2023-03-13</td>\n",
              "      <td>CUST007</td>\n",
              "      <td>Male</td>\n",
              "      <td>46</td>\n",
              "      <td>Clothing</td>\n",
              "      <td>2</td>\n",
              "      <td>25</td>\n",
              "      <td>50</td>\n",
              "    </tr>\n",
              "    <tr>\n",
              "      <th>7</th>\n",
              "      <td>8</td>\n",
              "      <td>2023-02-22</td>\n",
              "      <td>CUST008</td>\n",
              "      <td>Male</td>\n",
              "      <td>30</td>\n",
              "      <td>Electronics</td>\n",
              "      <td>4</td>\n",
              "      <td>25</td>\n",
              "      <td>100</td>\n",
              "    </tr>\n",
              "    <tr>\n",
              "      <th>8</th>\n",
              "      <td>9</td>\n",
              "      <td>2023-12-13</td>\n",
              "      <td>CUST009</td>\n",
              "      <td>Male</td>\n",
              "      <td>63</td>\n",
              "      <td>Electronics</td>\n",
              "      <td>2</td>\n",
              "      <td>300</td>\n",
              "      <td>600</td>\n",
              "    </tr>\n",
              "    <tr>\n",
              "      <th>9</th>\n",
              "      <td>10</td>\n",
              "      <td>2023-10-07</td>\n",
              "      <td>CUST010</td>\n",
              "      <td>Female</td>\n",
              "      <td>52</td>\n",
              "      <td>Clothing</td>\n",
              "      <td>4</td>\n",
              "      <td>50</td>\n",
              "      <td>200</td>\n",
              "    </tr>\n",
              "    <tr>\n",
              "      <th>10</th>\n",
              "      <td>11</td>\n",
              "      <td>2023-02-14</td>\n",
              "      <td>CUST011</td>\n",
              "      <td>Male</td>\n",
              "      <td>23</td>\n",
              "      <td>Clothing</td>\n",
              "      <td>2</td>\n",
              "      <td>50</td>\n",
              "      <td>100</td>\n",
              "    </tr>\n",
              "  </tbody>\n",
              "</table>\n",
              "</div>\n",
              "    <div class=\"colab-df-buttons\">\n",
              "\n",
              "  <div class=\"colab-df-container\">\n",
              "    <button class=\"colab-df-convert\" onclick=\"convertToInteractive('df-17c8c69f-8576-4d36-9a91-cc84f7fdbfa0')\"\n",
              "            title=\"Convert this dataframe to an interactive table.\"\n",
              "            style=\"display:none;\">\n",
              "\n",
              "  <svg xmlns=\"http://www.w3.org/2000/svg\" height=\"24px\" viewBox=\"0 -960 960 960\">\n",
              "    <path d=\"M120-120v-720h720v720H120Zm60-500h600v-160H180v160Zm220 220h160v-160H400v160Zm0 220h160v-160H400v160ZM180-400h160v-160H180v160Zm440 0h160v-160H620v160ZM180-180h160v-160H180v160Zm440 0h160v-160H620v160Z\"/>\n",
              "  </svg>\n",
              "    </button>\n",
              "\n",
              "  <style>\n",
              "    .colab-df-container {\n",
              "      display:flex;\n",
              "      gap: 12px;\n",
              "    }\n",
              "\n",
              "    .colab-df-convert {\n",
              "      background-color: #E8F0FE;\n",
              "      border: none;\n",
              "      border-radius: 50%;\n",
              "      cursor: pointer;\n",
              "      display: none;\n",
              "      fill: #1967D2;\n",
              "      height: 32px;\n",
              "      padding: 0 0 0 0;\n",
              "      width: 32px;\n",
              "    }\n",
              "\n",
              "    .colab-df-convert:hover {\n",
              "      background-color: #E2EBFA;\n",
              "      box-shadow: 0px 1px 2px rgba(60, 64, 67, 0.3), 0px 1px 3px 1px rgba(60, 64, 67, 0.15);\n",
              "      fill: #174EA6;\n",
              "    }\n",
              "\n",
              "    .colab-df-buttons div {\n",
              "      margin-bottom: 4px;\n",
              "    }\n",
              "\n",
              "    [theme=dark] .colab-df-convert {\n",
              "      background-color: #3B4455;\n",
              "      fill: #D2E3FC;\n",
              "    }\n",
              "\n",
              "    [theme=dark] .colab-df-convert:hover {\n",
              "      background-color: #434B5C;\n",
              "      box-shadow: 0px 1px 3px 1px rgba(0, 0, 0, 0.15);\n",
              "      filter: drop-shadow(0px 1px 2px rgba(0, 0, 0, 0.3));\n",
              "      fill: #FFFFFF;\n",
              "    }\n",
              "  </style>\n",
              "\n",
              "    <script>\n",
              "      const buttonEl =\n",
              "        document.querySelector('#df-17c8c69f-8576-4d36-9a91-cc84f7fdbfa0 button.colab-df-convert');\n",
              "      buttonEl.style.display =\n",
              "        google.colab.kernel.accessAllowed ? 'block' : 'none';\n",
              "\n",
              "      async function convertToInteractive(key) {\n",
              "        const element = document.querySelector('#df-17c8c69f-8576-4d36-9a91-cc84f7fdbfa0');\n",
              "        const dataTable =\n",
              "          await google.colab.kernel.invokeFunction('convertToInteractive',\n",
              "                                                    [key], {});\n",
              "        if (!dataTable) return;\n",
              "\n",
              "        const docLinkHtml = 'Like what you see? Visit the ' +\n",
              "          '<a target=\"_blank\" href=https://colab.research.google.com/notebooks/data_table.ipynb>data table notebook</a>'\n",
              "          + ' to learn more about interactive tables.';\n",
              "        element.innerHTML = '';\n",
              "        dataTable['output_type'] = 'display_data';\n",
              "        await google.colab.output.renderOutput(dataTable, element);\n",
              "        const docLink = document.createElement('div');\n",
              "        docLink.innerHTML = docLinkHtml;\n",
              "        element.appendChild(docLink);\n",
              "      }\n",
              "    </script>\n",
              "  </div>\n",
              "\n",
              "\n",
              "<div id=\"df-581e30a7-d857-4aa8-bc54-316aa2d1e506\">\n",
              "  <button class=\"colab-df-quickchart\" onclick=\"quickchart('df-581e30a7-d857-4aa8-bc54-316aa2d1e506')\"\n",
              "            title=\"Suggest charts\"\n",
              "            style=\"display:none;\">\n",
              "\n",
              "<svg xmlns=\"http://www.w3.org/2000/svg\" height=\"24px\"viewBox=\"0 0 24 24\"\n",
              "     width=\"24px\">\n",
              "    <g>\n",
              "        <path d=\"M19 3H5c-1.1 0-2 .9-2 2v14c0 1.1.9 2 2 2h14c1.1 0 2-.9 2-2V5c0-1.1-.9-2-2-2zM9 17H7v-7h2v7zm4 0h-2V7h2v10zm4 0h-2v-4h2v4z\"/>\n",
              "    </g>\n",
              "</svg>\n",
              "  </button>\n",
              "\n",
              "<style>\n",
              "  .colab-df-quickchart {\n",
              "      --bg-color: #E8F0FE;\n",
              "      --fill-color: #1967D2;\n",
              "      --hover-bg-color: #E2EBFA;\n",
              "      --hover-fill-color: #174EA6;\n",
              "      --disabled-fill-color: #AAA;\n",
              "      --disabled-bg-color: #DDD;\n",
              "  }\n",
              "\n",
              "  [theme=dark] .colab-df-quickchart {\n",
              "      --bg-color: #3B4455;\n",
              "      --fill-color: #D2E3FC;\n",
              "      --hover-bg-color: #434B5C;\n",
              "      --hover-fill-color: #FFFFFF;\n",
              "      --disabled-bg-color: #3B4455;\n",
              "      --disabled-fill-color: #666;\n",
              "  }\n",
              "\n",
              "  .colab-df-quickchart {\n",
              "    background-color: var(--bg-color);\n",
              "    border: none;\n",
              "    border-radius: 50%;\n",
              "    cursor: pointer;\n",
              "    display: none;\n",
              "    fill: var(--fill-color);\n",
              "    height: 32px;\n",
              "    padding: 0;\n",
              "    width: 32px;\n",
              "  }\n",
              "\n",
              "  .colab-df-quickchart:hover {\n",
              "    background-color: var(--hover-bg-color);\n",
              "    box-shadow: 0 1px 2px rgba(60, 64, 67, 0.3), 0 1px 3px 1px rgba(60, 64, 67, 0.15);\n",
              "    fill: var(--button-hover-fill-color);\n",
              "  }\n",
              "\n",
              "  .colab-df-quickchart-complete:disabled,\n",
              "  .colab-df-quickchart-complete:disabled:hover {\n",
              "    background-color: var(--disabled-bg-color);\n",
              "    fill: var(--disabled-fill-color);\n",
              "    box-shadow: none;\n",
              "  }\n",
              "\n",
              "  .colab-df-spinner {\n",
              "    border: 2px solid var(--fill-color);\n",
              "    border-color: transparent;\n",
              "    border-bottom-color: var(--fill-color);\n",
              "    animation:\n",
              "      spin 1s steps(1) infinite;\n",
              "  }\n",
              "\n",
              "  @keyframes spin {\n",
              "    0% {\n",
              "      border-color: transparent;\n",
              "      border-bottom-color: var(--fill-color);\n",
              "      border-left-color: var(--fill-color);\n",
              "    }\n",
              "    20% {\n",
              "      border-color: transparent;\n",
              "      border-left-color: var(--fill-color);\n",
              "      border-top-color: var(--fill-color);\n",
              "    }\n",
              "    30% {\n",
              "      border-color: transparent;\n",
              "      border-left-color: var(--fill-color);\n",
              "      border-top-color: var(--fill-color);\n",
              "      border-right-color: var(--fill-color);\n",
              "    }\n",
              "    40% {\n",
              "      border-color: transparent;\n",
              "      border-right-color: var(--fill-color);\n",
              "      border-top-color: var(--fill-color);\n",
              "    }\n",
              "    60% {\n",
              "      border-color: transparent;\n",
              "      border-right-color: var(--fill-color);\n",
              "    }\n",
              "    80% {\n",
              "      border-color: transparent;\n",
              "      border-right-color: var(--fill-color);\n",
              "      border-bottom-color: var(--fill-color);\n",
              "    }\n",
              "    90% {\n",
              "      border-color: transparent;\n",
              "      border-bottom-color: var(--fill-color);\n",
              "    }\n",
              "  }\n",
              "</style>\n",
              "\n",
              "  <script>\n",
              "    async function quickchart(key) {\n",
              "      const quickchartButtonEl =\n",
              "        document.querySelector('#' + key + ' button');\n",
              "      quickchartButtonEl.disabled = true;  // To prevent multiple clicks.\n",
              "      quickchartButtonEl.classList.add('colab-df-spinner');\n",
              "      try {\n",
              "        const charts = await google.colab.kernel.invokeFunction(\n",
              "            'suggestCharts', [key], {});\n",
              "      } catch (error) {\n",
              "        console.error('Error during call to suggestCharts:', error);\n",
              "      }\n",
              "      quickchartButtonEl.classList.remove('colab-df-spinner');\n",
              "      quickchartButtonEl.classList.add('colab-df-quickchart-complete');\n",
              "    }\n",
              "    (() => {\n",
              "      let quickchartButtonEl =\n",
              "        document.querySelector('#df-581e30a7-d857-4aa8-bc54-316aa2d1e506 button');\n",
              "      quickchartButtonEl.style.display =\n",
              "        google.colab.kernel.accessAllowed ? 'block' : 'none';\n",
              "    })();\n",
              "  </script>\n",
              "</div>\n",
              "\n",
              "    </div>\n",
              "  </div>\n"
            ],
            "application/vnd.google.colaboratory.intrinsic+json": {
              "type": "dataframe",
              "variable_name": "data",
              "summary": "{\n  \"name\": \"data\",\n  \"rows\": 1000,\n  \"fields\": [\n    {\n      \"column\": \"Transaction ID\",\n      \"properties\": {\n        \"dtype\": \"number\",\n        \"std\": 288,\n        \"min\": 1,\n        \"max\": 1000,\n        \"num_unique_values\": 1000,\n        \"samples\": [\n          522,\n          738,\n          741\n        ],\n        \"semantic_type\": \"\",\n        \"description\": \"\"\n      }\n    },\n    {\n      \"column\": \"Date\",\n      \"properties\": {\n        \"dtype\": \"object\",\n        \"num_unique_values\": 345,\n        \"samples\": [\n          \"2023-04-04\",\n          \"2023-04-13\",\n          \"2023-04-15\"\n        ],\n        \"semantic_type\": \"\",\n        \"description\": \"\"\n      }\n    },\n    {\n      \"column\": \"Customer ID\",\n      \"properties\": {\n        \"dtype\": \"string\",\n        \"num_unique_values\": 1000,\n        \"samples\": [\n          \"CUST522\",\n          \"CUST738\",\n          \"CUST741\"\n        ],\n        \"semantic_type\": \"\",\n        \"description\": \"\"\n      }\n    },\n    {\n      \"column\": \"Gender\",\n      \"properties\": {\n        \"dtype\": \"category\",\n        \"num_unique_values\": 2,\n        \"samples\": [\n          \"Female\",\n          \"Male\"\n        ],\n        \"semantic_type\": \"\",\n        \"description\": \"\"\n      }\n    },\n    {\n      \"column\": \"Age\",\n      \"properties\": {\n        \"dtype\": \"number\",\n        \"std\": 13,\n        \"min\": 18,\n        \"max\": 64,\n        \"num_unique_values\": 47,\n        \"samples\": [\n          48,\n          61\n        ],\n        \"semantic_type\": \"\",\n        \"description\": \"\"\n      }\n    },\n    {\n      \"column\": \"Product Category\",\n      \"properties\": {\n        \"dtype\": \"category\",\n        \"num_unique_values\": 3,\n        \"samples\": [\n          \"Beauty\",\n          \"Clothing\"\n        ],\n        \"semantic_type\": \"\",\n        \"description\": \"\"\n      }\n    },\n    {\n      \"column\": \"Quantity\",\n      \"properties\": {\n        \"dtype\": \"number\",\n        \"std\": 1,\n        \"min\": 1,\n        \"max\": 4,\n        \"num_unique_values\": 4,\n        \"samples\": [\n          2,\n          4\n        ],\n        \"semantic_type\": \"\",\n        \"description\": \"\"\n      }\n    },\n    {\n      \"column\": \"Price per Unit\",\n      \"properties\": {\n        \"dtype\": \"number\",\n        \"std\": 189,\n        \"min\": 25,\n        \"max\": 500,\n        \"num_unique_values\": 5,\n        \"samples\": [\n          500,\n          300\n        ],\n        \"semantic_type\": \"\",\n        \"description\": \"\"\n      }\n    },\n    {\n      \"column\": \"Total Amount\",\n      \"properties\": {\n        \"dtype\": \"number\",\n        \"std\": 559,\n        \"min\": 25,\n        \"max\": 2000,\n        \"num_unique_values\": 18,\n        \"samples\": [\n          150,\n          1000\n        ],\n        \"semantic_type\": \"\",\n        \"description\": \"\"\n      }\n    }\n  ]\n}"
            }
          },
          "metadata": {},
          "execution_count": 6
        }
      ]
    },
    {
      "cell_type": "markdown",
      "source": [
        "# **Task-3:\tPrint the column names and their respective data types**"
      ],
      "metadata": {
        "id": "o5Y8CMMbaBc1"
      }
    },
    {
      "cell_type": "code",
      "source": [
        "data.dtypes"
      ],
      "metadata": {
        "colab": {
          "base_uri": "https://localhost:8080/",
          "height": 366
        },
        "id": "bTomLRa04QWE",
        "outputId": "bc75d65c-3503-4065-93c0-fd7581b0f2ab"
      },
      "execution_count": 8,
      "outputs": [
        {
          "output_type": "execute_result",
          "data": {
            "text/plain": [
              "Transaction ID       int64\n",
              "Date                object\n",
              "Customer ID         object\n",
              "Gender              object\n",
              "Age                  int64\n",
              "Product Category    object\n",
              "Quantity             int64\n",
              "Price per Unit       int64\n",
              "Total Amount         int64\n",
              "dtype: object"
            ],
            "text/html": [
              "<div>\n",
              "<style scoped>\n",
              "    .dataframe tbody tr th:only-of-type {\n",
              "        vertical-align: middle;\n",
              "    }\n",
              "\n",
              "    .dataframe tbody tr th {\n",
              "        vertical-align: top;\n",
              "    }\n",
              "\n",
              "    .dataframe thead th {\n",
              "        text-align: right;\n",
              "    }\n",
              "</style>\n",
              "<table border=\"1\" class=\"dataframe\">\n",
              "  <thead>\n",
              "    <tr style=\"text-align: right;\">\n",
              "      <th></th>\n",
              "      <th>0</th>\n",
              "    </tr>\n",
              "  </thead>\n",
              "  <tbody>\n",
              "    <tr>\n",
              "      <th>Transaction ID</th>\n",
              "      <td>int64</td>\n",
              "    </tr>\n",
              "    <tr>\n",
              "      <th>Date</th>\n",
              "      <td>object</td>\n",
              "    </tr>\n",
              "    <tr>\n",
              "      <th>Customer ID</th>\n",
              "      <td>object</td>\n",
              "    </tr>\n",
              "    <tr>\n",
              "      <th>Gender</th>\n",
              "      <td>object</td>\n",
              "    </tr>\n",
              "    <tr>\n",
              "      <th>Age</th>\n",
              "      <td>int64</td>\n",
              "    </tr>\n",
              "    <tr>\n",
              "      <th>Product Category</th>\n",
              "      <td>object</td>\n",
              "    </tr>\n",
              "    <tr>\n",
              "      <th>Quantity</th>\n",
              "      <td>int64</td>\n",
              "    </tr>\n",
              "    <tr>\n",
              "      <th>Price per Unit</th>\n",
              "      <td>int64</td>\n",
              "    </tr>\n",
              "    <tr>\n",
              "      <th>Total Amount</th>\n",
              "      <td>int64</td>\n",
              "    </tr>\n",
              "  </tbody>\n",
              "</table>\n",
              "</div><br><label><b>dtype:</b> object</label>"
            ]
          },
          "metadata": {},
          "execution_count": 8
        }
      ]
    },
    {
      "cell_type": "markdown",
      "source": [
        "# **Task-4:\tCheck for missing values and duplicates in the dataset. How would you handle them?**"
      ],
      "metadata": {
        "id": "RtwdM1QWaNfs"
      }
    },
    {
      "cell_type": "code",
      "source": [
        "# prompt: 4.\tCheck for missing values and duplicates in the dataset. How would you handle them?\n",
        "\n",
        "# Check for missing values\n",
        "print(data.isnull().sum())\n",
        "\n",
        "# Check for duplicate rows\n",
        "print(f\"Number of duplicate rows: {data.duplicated().sum()}\")\n",
        "\n",
        "# Handling missing values (example: imputation with mean for numerical features)\n",
        "numerical_cols = data.select_dtypes(include=np.number).columns\n",
        "for col in numerical_cols:\n",
        "    if data[col].isnull().any():\n",
        "        data[col].fillna(data[col].mean(), inplace=True)\n",
        "\n",
        "# Handling duplicate rows (example: drop duplicates)\n",
        "data.drop_duplicates(inplace=True)\n",
        "\n",
        "# Verify the changes (optional)\n",
        "print(data.isnull().sum())\n",
        "print(f\"Number of duplicate rows after handling: {data.duplicated().sum()}\")"
      ],
      "metadata": {
        "colab": {
          "base_uri": "https://localhost:8080/"
        },
        "id": "20kKNY3S4TKb",
        "outputId": "b7ff7b9f-5727-4d61-96bb-f6adf58ddc29"
      },
      "execution_count": 9,
      "outputs": [
        {
          "output_type": "stream",
          "name": "stdout",
          "text": [
            "Transaction ID      0\n",
            "Date                0\n",
            "Customer ID         0\n",
            "Gender              0\n",
            "Age                 0\n",
            "Product Category    0\n",
            "Quantity            0\n",
            "Price per Unit      0\n",
            "Total Amount        0\n",
            "dtype: int64\n",
            "Number of duplicate rows: 0\n",
            "Transaction ID      0\n",
            "Date                0\n",
            "Customer ID         0\n",
            "Gender              0\n",
            "Age                 0\n",
            "Product Category    0\n",
            "Quantity            0\n",
            "Price per Unit      0\n",
            "Total Amount        0\n",
            "dtype: int64\n",
            "Number of duplicate rows after handling: 0\n"
          ]
        }
      ]
    },
    {
      "cell_type": "markdown",
      "source": [
        "# **Summary**:"
      ],
      "metadata": {
        "id": "XcOHd0l_ZkGf"
      }
    },
    {
      "cell_type": "markdown",
      "source": [
        "### **Brief Summary of the Dataset**\n",
        "\n",
        "1. **Shape**: The dataset contains **1,000 rows and 9 columns**.\n",
        "\n",
        "2. **Columns**:\n",
        "   - `Transaction ID`: Unique identifier for each transaction.\n",
        "   - `Date`: Date of the transaction.\n",
        "   - `Customer ID`: Unique identifier for each customer.\n",
        "   - `Gender`: Gender of the customer.\n",
        "   - `Age`: Age of the customer.\n",
        "   - `Product Category`: Category of the purchased product.\n",
        "   - `Quantity`: Quantity of items purchased.\n",
        "   - `Price per Unit`: Price of each unit of the product.\n",
        "   - `Total Amount`: Total cost for the transaction.\n",
        "\n",
        "3. **Missing Values**: There are **no missing values** in the dataset.\n",
        "\n",
        "4. **Duplicate Rows**: There are **no duplicate rows** in the dataset.\n",
        "\n",
        "This dataset is well-structured and ready for further cleaning, analysis, and exploration."
      ],
      "metadata": {
        "id": "IhpKNNgf7XnB"
      }
    },
    {
      "cell_type": "markdown",
      "source": [
        "# **1. Check for Missing Values**\n",
        "Calculate Total and Percentage Missing:\n",
        "\n",
        "Use **df.isnull()**.sum() to find the number of missing values in each column.\n",
        "Calculate the percentage of missing values with (missing_values / len(df)) * 100.\n",
        "Handle Missing Values:\n",
        "\n",
        "**Numerical Columns**:\n",
        "Impute with the mean or median if missing values are minimal.\n",
        "Drop the column if more than 50% of its values are missing.\n",
        "Categorical Columns:\n",
        "Impute with the mode (most frequent value).\n",
        "Consider dropping if a large portion of values is missing.\n",
        "\n",
        "**2.** **Check for Duplicates**\n",
        "\n",
        "**Count Duplicate Rows**:\n",
        "\n",
        "Use **df.duplicated()**.sum() to find the number of duplicate rows.\n",
        "\n",
        "**Remove Duplicates:**\n",
        "\n",
        "Use** df.drop_duplicates()** to remove duplicate rows.\n",
        "\n"
      ],
      "metadata": {
        "id": "7lSU8mCz5tL7"
      }
    },
    {
      "cell_type": "markdown",
      "source": [
        "# **2. Data Cleaning**"
      ],
      "metadata": {
        "id": "uE_pNGto7hng"
      }
    },
    {
      "cell_type": "markdown",
      "source": [
        "# **Task-1:If there are duplicates, remove them**"
      ],
      "metadata": {
        "id": "-6cgZuydY4sO"
      }
    },
    {
      "cell_type": "code",
      "source": [
        "# prompt: \tIf there are duplicates, remove them\n",
        "\n",
        "import pandas as pd\n",
        "import numpy as np\n",
        "\n",
        "# Load the dataset (assuming it's in /content/)\n",
        "data = pd.read_csv('/content/retail_sales_dataset.csv')\n",
        "\n",
        "# Display some info\n",
        "print(data.head())\n",
        "print(data.info())\n",
        "\n",
        "# Check for and handle duplicate rows\n",
        "print(f\"Number of duplicate rows before removal: {data.duplicated().sum()}\")\n",
        "data.drop_duplicates(inplace=True)\n",
        "print(f\"Number of duplicate rows after removal: {data.duplicated().sum()}\")"
      ],
      "metadata": {
        "colab": {
          "base_uri": "https://localhost:8080/"
        },
        "id": "t3McIHmW7vMo",
        "outputId": "214ab31a-a17a-4ec4-c949-a6d7ecddcbc6"
      },
      "execution_count": 12,
      "outputs": [
        {
          "output_type": "stream",
          "name": "stdout",
          "text": [
            "   Transaction ID        Date Customer ID  Gender  Age Product Category  \\\n",
            "0               1  2023-11-24     CUST001    Male   34           Beauty   \n",
            "1               2  2023-02-27     CUST002  Female   26         Clothing   \n",
            "2               3  2023-01-13     CUST003    Male   50      Electronics   \n",
            "3               4  2023-05-21     CUST004    Male   37         Clothing   \n",
            "4               5  2023-05-06     CUST005    Male   30           Beauty   \n",
            "\n",
            "   Quantity  Price per Unit  Total Amount  \n",
            "0         3              50           150  \n",
            "1         2             500          1000  \n",
            "2         1              30            30  \n",
            "3         1             500           500  \n",
            "4         2              50           100  \n",
            "<class 'pandas.core.frame.DataFrame'>\n",
            "RangeIndex: 1000 entries, 0 to 999\n",
            "Data columns (total 9 columns):\n",
            " #   Column            Non-Null Count  Dtype \n",
            "---  ------            --------------  ----- \n",
            " 0   Transaction ID    1000 non-null   int64 \n",
            " 1   Date              1000 non-null   object\n",
            " 2   Customer ID       1000 non-null   object\n",
            " 3   Gender            1000 non-null   object\n",
            " 4   Age               1000 non-null   int64 \n",
            " 5   Product Category  1000 non-null   object\n",
            " 6   Quantity          1000 non-null   int64 \n",
            " 7   Price per Unit    1000 non-null   int64 \n",
            " 8   Total Amount      1000 non-null   int64 \n",
            "dtypes: int64(5), object(4)\n",
            "memory usage: 70.4+ KB\n",
            "None\n",
            "Number of duplicate rows before removal: 0\n",
            "Number of duplicate rows after removal: 0\n"
          ]
        }
      ]
    },
    {
      "cell_type": "markdown",
      "source": [
        "# **Task-2:\tHandle missing values appropriately (drop or impute them).**"
      ],
      "metadata": {
        "id": "RWe6e-9OZABN"
      }
    },
    {
      "cell_type": "code",
      "source": [
        "# prompt: Handle missing values appropriately (drop or impute them)\n",
        "\n",
        "import pandas as pd\n",
        "import numpy as np\n",
        "\n",
        "# Load the dataset (assuming it's in /content/)\n",
        "data = pd.read_csv('/content/retail_sales_dataset.csv')\n",
        "\n",
        "# Check for missing values\n",
        "print(data.isnull().sum())\n",
        "\n",
        "# Handle missing values in numerical columns using imputation (mean)\n",
        "numerical_cols = data.select_dtypes(include=np.number).columns\n",
        "for col in numerical_cols:\n",
        "    if data[col].isnull().any():\n",
        "        data[col].fillna(data[col].mean(), inplace=True)\n",
        "\n",
        "# Handle missing values in categorical columns using imputation (mode)\n",
        "categorical_cols = data.select_dtypes(exclude=np.number).columns\n",
        "for col in categorical_cols:\n",
        "    if data[col].isnull().any():\n",
        "        data[col].fillna(data[col].mode()[0], inplace=True)\n",
        "\n",
        "# Alternatively, drop rows with any missing values\n",
        "# data.dropna(inplace=True)\n",
        "\n",
        "# Check for duplicate rows and remove them\n",
        "print(f\"Number of duplicate rows before removal: {data.duplicated().sum()}\")\n",
        "data.drop_duplicates(inplace=True)\n",
        "print(f\"Number of duplicate rows after removal: {data.duplicated().sum()}\")\n",
        "\n",
        "# Verify the changes\n",
        "print(data.isnull().sum())"
      ],
      "metadata": {
        "colab": {
          "base_uri": "https://localhost:8080/"
        },
        "id": "Wg-ww13d78Hg",
        "outputId": "68bae5dc-f4f7-4406-8352-1b69fa82bb31"
      },
      "execution_count": 15,
      "outputs": [
        {
          "output_type": "stream",
          "name": "stdout",
          "text": [
            "Transaction ID      0\n",
            "Date                0\n",
            "Customer ID         0\n",
            "Gender              0\n",
            "Age                 0\n",
            "Product Category    0\n",
            "Quantity            0\n",
            "Price per Unit      0\n",
            "Total Amount        0\n",
            "dtype: int64\n",
            "Number of duplicate rows before removal: 0\n",
            "Number of duplicate rows after removal: 0\n",
            "Transaction ID      0\n",
            "Date                0\n",
            "Customer ID         0\n",
            "Gender              0\n",
            "Age                 0\n",
            "Product Category    0\n",
            "Quantity            0\n",
            "Price per Unit      0\n",
            "Total Amount        0\n",
            "dtype: int64\n"
          ]
        }
      ]
    },
    {
      "cell_type": "markdown",
      "source": [
        "# **Task-3:Rename the columns to more meaningful names**"
      ],
      "metadata": {
        "id": "yLIWFXbbZU90"
      }
    },
    {
      "cell_type": "code",
      "source": [
        "# prompt: Rename the columns to more meaningful names\n",
        "\n",
        "import pandas as pd\n",
        "import numpy as np\n",
        "\n",
        "# Load the dataset\n",
        "data = pd.read_csv('/content/retail_sales_dataset.csv')\n",
        "\n",
        "# Rename columns\n",
        "data = data.rename(columns={\n",
        "    'Transaction ID': 'transaction_id',\n",
        "    'Date': 'transaction_date',\n",
        "    'Customer ID': 'customer_id',\n",
        "    'Gender': 'customer_gender',\n",
        "    'Age': 'customer_age',\n",
        "    'Product Category': 'product_category',\n",
        "    'Quantity': 'quantity_purchased',\n",
        "    'Price per Unit': 'unit_price',\n",
        "    'Total Amount': 'total_amount'\n",
        "})\n",
        "\n",
        "# Now you can work with the data using the new column names\n",
        "print(data.head())"
      ],
      "metadata": {
        "colab": {
          "base_uri": "https://localhost:8080/"
        },
        "id": "qqs5T7Fo8-mf",
        "outputId": "8921ccf0-2725-4edc-f2c7-9c9825411ac5"
      },
      "execution_count": 77,
      "outputs": [
        {
          "output_type": "stream",
          "name": "stdout",
          "text": [
            "   transaction_id transaction_date customer_id customer_gender  customer_age  \\\n",
            "0               1       2023-11-24     CUST001            Male            34   \n",
            "1               2       2023-02-27     CUST002          Female            26   \n",
            "2               3       2023-01-13     CUST003            Male            50   \n",
            "3               4       2023-05-21     CUST004            Male            37   \n",
            "4               5       2023-05-06     CUST005            Male            30   \n",
            "\n",
            "  product_category  quantity_purchased  unit_price  total_amount  \n",
            "0           Beauty                   3          50           150  \n",
            "1         Clothing                   2         500          1000  \n",
            "2      Electronics                   1          30            30  \n",
            "3         Clothing                   1         500           500  \n",
            "4           Beauty                   2          50           100  \n"
          ]
        }
      ]
    },
    {
      "cell_type": "markdown",
      "source": [
        "# **Summary:**"
      ],
      "metadata": {
        "id": "PK2qUU_LZI5U"
      }
    },
    {
      "cell_type": "markdown",
      "source": [
        "# **### Cleaned Dataset Summary**:  \n",
        "- The dataset has **1,000 rows and 9 columns**.  \n",
        "- No **missing values** or **duplicates** were found.  \n",
        "- All columns, like `Transaction ID`, `Date`, `Customer ID`, `Product Category`, and `Total Amount`, are intact and ready for analysis."
      ],
      "metadata": {
        "id": "38OqW4Y09yKG"
      }
    },
    {
      "cell_type": "markdown",
      "source": [
        "# **### Explanation of Handling Missing Values and Duplicates**:\n",
        "\n",
        "1. **Missing Values**:  \n",
        "   - The dataset contains no missing values, so no imputation or removal was required.\n",
        "\n",
        "2. **Duplicates**:  \n",
        "   - The dataset has no duplicate rows, so no action was needed to handle duplicates.\n",
        "\n",
        "Since the dataset is already clean in these aspects, it is ready for analysis."
      ],
      "metadata": {
        "id": "juDzsZIM9vKm"
      }
    },
    {
      "cell_type": "markdown",
      "source": [
        "# **3. Exploratory Data Analysis (EDA)**"
      ],
      "metadata": {
        "id": "z9MesYJl_tFN"
      }
    },
    {
      "cell_type": "markdown",
      "source": [
        "# **Task-1:Plot the distribution of the following discrete features: ** **bold text**\n",
        "#\tQuantity\n",
        "#\tCategory\n",
        "#\tRegion\n"
      ],
      "metadata": {
        "id": "shnBGQ7wYUqN"
      }
    },
    {
      "cell_type": "code",
      "source": [
        "# prompt: \tPlot the distribution of the following discrete features:\n",
        "# o\tQuantity\n",
        "# o\tCategory\n",
        "# o\tRegion\n",
        "\n",
        "import matplotlib.pyplot as plt\n",
        "import seaborn as sns\n",
        "\n",
        "# Plot the distribution of 'Quantity'\n",
        "plt.figure(figsize=(8, 6))\n",
        "sns.histplot(data['Quantity'], kde=True)\n",
        "plt.title('Distribution of Quantity')\n",
        "plt.xlabel('Quantity')\n",
        "plt.ylabel('Frequency')\n",
        "plt.show()\n",
        "\n",
        "# Plot the distribution of 'Product Category'\n",
        "plt.figure(figsize=(10, 6))\n",
        "sns.countplot(y='Product Category', data=data) # Use y for better visualization\n",
        "plt.title('Distribution of Product Category')\n",
        "plt.xlabel('Count')\n",
        "plt.ylabel('Product Category')\n",
        "plt.show()\n",
        "\n",
        "# Assuming 'Region' is a column in your dataset (replace with actual column if different)\n",
        "# If 'Region' is not available, you need to create it or use another relevant column for regional distribution\n",
        "if 'Region' in data.columns:\n",
        "  plt.figure(figsize=(10, 6))\n",
        "  sns.countplot(y='Region', data=data)  # Use y-axis for better readability\n",
        "  plt.title('Distribution of Region')\n",
        "  plt.xlabel('Count')\n",
        "  plt.ylabel('Region')\n",
        "  plt.show()\n",
        "else:\n",
        "  print(\"Warning: 'Region' column not found in the dataset. Please replace 'Region' with the correct column name or create a 'Region' column.\")"
      ],
      "metadata": {
        "colab": {
          "base_uri": "https://localhost:8080/",
          "height": 1000
        },
        "id": "1qgCDsMj_vgk",
        "outputId": "eb9512db-1690-4c0a-ff2b-a1cda0a8773b"
      },
      "execution_count": 19,
      "outputs": [
        {
          "output_type": "display_data",
          "data": {
            "text/plain": [
              "<Figure size 800x600 with 1 Axes>"
            ],
            "image/png": "[encoded data removed]"
          },
          "metadata": {}
        },
        {
          "output_type": "display_data",
          "data": {
            "text/plain": [
              "<Figure size 1000x600 with 1 Axes>"
            ],
            "image/png": "[encoded data removed]"
          },
          "metadata": {}
        },
        {
          "output_type": "stream",
          "name": "stdout",
          "text": [
            "Warning: 'Region' column not found in the dataset. Please replace 'Region' with the correct column name or create a 'Region' column.\n"
          ]
        }
      ]
    },
    {
      "cell_type": "markdown",
      "source": [
        "# **Task-2:\tIdentify the most frequently purchased product category**"
      ],
      "metadata": {
        "id": "J6pHWCRRYNM9"
      }
    },
    {
      "cell_type": "code",
      "source": [
        "# prompt: Identify the most frequently purchased product category\n",
        "\n",
        "# Assuming 'Product Category' is a column in your dataset.\n",
        "# Find the most frequent product category\n",
        "most_frequent_product_category = data['Product Category'].mode()[0]\n",
        "\n",
        "print(f\"The most frequently purchased product category is: {most_frequent_product_category}\")"
      ],
      "metadata": {
        "colab": {
          "base_uri": "https://localhost:8080/"
        },
        "id": "9dJJkTapAu-8",
        "outputId": "5c260f1d-1ff6-4172-cbc7-266b25a9bf4f"
      },
      "execution_count": 20,
      "outputs": [
        {
          "output_type": "stream",
          "name": "stdout",
          "text": [
            "The most frequently purchased product category is: Clothing\n"
          ]
        }
      ]
    },
    {
      "cell_type": "markdown",
      "source": [
        "# **Task-3:Find the region contributing the most to sales.**"
      ],
      "metadata": {
        "id": "vmj_1cdpYCcb"
      }
    },
    {
      "cell_type": "code",
      "source": [
        "# Ensure the dataset contains 'Region' and 'Total Amount' columns\n",
        "# Use 'data' instead of 'dataset'\n",
        "if 'Region' in data.columns and 'Total Amount' in data.columns:\n",
        "    # Group by Region and sum the Total Amount\n",
        "    region_sales = data.groupby('Region')['Total Amount'].sum().sort_values(ascending=False)\n",
        "\n",
        "    # Identify the region with the highest sales contribution\n",
        "    top_region = region_sales.idxmax()  # Region with the highest sales\n",
        "    top_sales = region_sales.max()  # Total sales in that region\n",
        "\n",
        "    # Display the result\n",
        "    print(f\"Region contributing the most to sales: {top_region}\")\n",
        "    print(f\"Total sales in this region: {top_sales}\")\n",
        "\n",
        "    # Optional: Display region-wise sales breakdown\n",
        "    print(\"\\nRegion-wise Sales Contribution:\")\n",
        "    print(region_sales)\n",
        "else:\n",
        "    print(\"The dataset does not contain 'Region' or 'Total Amount' columns for this analysis.\")"
      ],
      "metadata": {
        "colab": {
          "base_uri": "https://localhost:8080/"
        },
        "id": "aepBd9l4Ii_k",
        "outputId": "6cd62862-a5e7-418e-ece1-1665642ff8fa"
      },
      "execution_count": 32,
      "outputs": [
        {
          "output_type": "stream",
          "name": "stdout",
          "text": [
            "The dataset does not contain 'Region' or 'Total Amount' columns for this analysis.\n"
          ]
        }
      ]
    },
    {
      "cell_type": "markdown",
      "source": [
        "# **Summary:**"
      ],
      "metadata": {
        "id": "24zQALyXaWUm"
      }
    },
    {
      "cell_type": "markdown",
      "source": [
        "# **### Simple Summary of Distribution Plots:**\n",
        "\n",
        "Distribution plots help us understand how different data points are spread out. For this dataset, we can plot the distribution of:\n",
        "\n",
        "1. **Quantity**: This shows how many items are sold in each transaction. It helps us see if most sales are for single items or in larger quantities.\n",
        "2. **Category**: This shows how often each product category is sold. It helps identify which product categories are the most popular.\n",
        "3. **Region**: This shows how sales are spread across different regions, helping to spot which regions are the highest contributors to sales.\n",
        "\n",
        "These plots help us understand patterns in the data, which can guide business decisions."
      ],
      "metadata": {
        "id": "zgYlM4GjIoeU"
      }
    },
    {
      "cell_type": "markdown",
      "source": [
        "# **### Simple Insights on Top Product Categories and Regions (Based on Dataset):**\n",
        "\n",
        "1. **Top Product Categories**:\n",
        "   - The dataset shows which product categories are sold the most. Categories with the highest sales are the most popular. For example, if **Electronics** and **Clothing** are top sellers, it means these categories are driving most of the sales.\n",
        "   - **Insight**: Focus on promoting these top categories to boost sales further.\n",
        "\n",
        "2. **Top Regions**:\n",
        "   - By looking at the `Region` column, we can see which regions contribute the most to total sales. For instance, if regions like **North** and **West** have the highest sales, they are the key areas to focus on.\n",
        "   - **Insight**: Focus marketing and resources on these high-performing regions to maximize sales."
      ],
      "metadata": {
        "id": "K4Avv_5iI2Dr"
      }
    },
    {
      "cell_type": "markdown",
      "source": [
        "# ***4. Timestamp Transformation***"
      ],
      "metadata": {
        "id": "wnwNYSIyKVYK"
      }
    },
    {
      "cell_type": "markdown",
      "source": [
        "# **Task-1:\tConvert the Order Date column to a datetime format.**"
      ],
      "metadata": {
        "id": "7teD0TSfWsGf"
      }
    },
    {
      "cell_type": "code",
      "source": [
        "# Ensure the 'Order Date' column exists\n",
        "if 'Order Date' in data.columns:  # Changed 'dataset' to 'data'\n",
        "    # Convert 'Order Date' column to datetime format\n",
        "    data['Order Date'] = pd.to_datetime(data['Order Date'])  # Changed 'dataset' to 'data'\n",
        "\n",
        "    # Verify the conversion\n",
        "    print(data['Order Date'].head())  # Changed 'dataset' to 'data'\n",
        "else:\n",
        "    print(\"The dataset does not contain an 'Order Date' column.\")\n"
      ],
      "metadata": {
        "colab": {
          "base_uri": "https://localhost:8080/"
        },
        "id": "n7mo0fMEKyqC",
        "outputId": "f0e36380-480c-41ee-ec5d-4b7224106bcd"
      },
      "execution_count": 50,
      "outputs": [
        {
          "output_type": "stream",
          "name": "stdout",
          "text": [
            "0   2023-11-24\n",
            "1   2023-02-27\n",
            "2   2023-01-13\n",
            "3   2023-05-21\n",
            "4   2023-05-06\n",
            "Name: Order Date, dtype: datetime64[ns]\n"
          ]
        }
      ]
    },
    {
      "cell_type": "markdown",
      "source": [
        "# **Task-2:\tCreate new columns: ** **bold text**\n",
        "o\tDay of the month.\n",
        "o\tMonth.\n",
        "o\tYear.\n",
        "### o\tSeason (Winter, Spring, Summer, Fall). *"
      ],
      "metadata": {
        "id": "PK7BxWIaWyVf"
      }
    },
    {
      "cell_type": "code",
      "source": [
        "# prompt: 2.\tCreate new columns:\n",
        "# o\tDay of the week.\n",
        "# o\tDay of the month.\n",
        "# o\tMonth.\n",
        "# o\tYear.\n",
        "# o\tSeason (Winter, Spring, Summer, Fall).\n",
        "\n",
        "# Assuming 'Date' column exists and is in a suitable date format\n",
        "# If not, replace 'Date' with the actual column name and handle any necessary date format conversions\n",
        "\n",
        "# Convert 'Date' column to datetime objects\n",
        "data['Date'] = pd.to_datetime(data['Date'])\n",
        "\n",
        "# Extract day of the week (Monday=0, Sunday=6)\n",
        "data['Day of the week'] = data['Date'].dt.dayofweek\n",
        "\n",
        "# Extract day of the month\n",
        "data['Day of the month'] = data['Date'].dt.day\n",
        "\n",
        "# Extract month\n",
        "data['Month'] = data['Date'].dt.month\n",
        "\n",
        "# Extract year\n",
        "data['Year'] = data['Date'].dt.year\n",
        "\n",
        "# Define a function to determine the season based on the month\n",
        "def get_season(month):\n",
        "    if month in [12, 1, 2]:\n",
        "        return 'Winter'\n",
        "    elif month in [3, 4, 5]:\n",
        "        return 'Spring'\n",
        "    elif month in [6, 7, 8]:\n",
        "        return 'Summer'\n",
        "    else:\n",
        "        return 'Fall'\n",
        "\n",
        "# Create the 'Season' column using the get_season function\n",
        "data['Season'] = data['Month'].apply(get_season)\n",
        "\n",
        "# Display the updated DataFrame to verify the new columns\n",
        "print(data.head())"
      ],
      "metadata": {
        "colab": {
          "base_uri": "https://localhost:8080/"
        },
        "id": "EzxxKCq8MrhQ",
        "outputId": "3d55c384-80ec-4cc3-d87d-777cb94e0d4f"
      },
      "execution_count": 51,
      "outputs": [
        {
          "output_type": "stream",
          "name": "stdout",
          "text": [
            "                 Transaction ID       Date Customer ID  Gender  Age  \\\n",
            "0 1970-01-01 00:00:00.000000001 2023-11-24     CUST001    Male   34   \n",
            "1 1970-01-01 00:00:00.000000002 2023-02-27     CUST002  Female   26   \n",
            "2 1970-01-01 00:00:00.000000003 2023-01-13     CUST003    Male   50   \n",
            "3 1970-01-01 00:00:00.000000004 2023-05-21     CUST004    Male   37   \n",
            "4 1970-01-01 00:00:00.000000005 2023-05-06     CUST005    Male   30   \n",
            "\n",
            "  Product Category  Quantity  Price per Unit  Total Amount Order Date  Year  \\\n",
            "0           Beauty         3              50           150 2023-11-24  2023   \n",
            "1         Clothing         2             500          1000 2023-02-27  2023   \n",
            "2      Electronics         1              30            30 2023-01-13  2023   \n",
            "3         Clothing         1             500           500 2023-05-21  2023   \n",
            "4           Beauty         2              50           100 2023-05-06  2023   \n",
            "\n",
            "   Month  Day  Day of the week  Day of the month  Season  \n",
            "0     11   24                4                24    Fall  \n",
            "1      2   27                0                27  Winter  \n",
            "2      1   13                4                13  Winter  \n",
            "3      5   21                6                21  Spring  \n",
            "4      5    6                5                 6  Spring  \n"
          ]
        }
      ]
    },
    {
      "cell_type": "markdown",
      "source": [
        "# **Task-3:Set the Order Date column as the DataFrame index**"
      ],
      "metadata": {
        "id": "mDoyr5bOX3y_"
      }
    },
    {
      "cell_type": "code",
      "source": [
        "# prompt:   Set the Order Date column as the DataFrame index.\n",
        "# Check if 'Transaction ID' is already the index. If not, set it as index.\n",
        "if data.index.name != 'Transaction ID':\n",
        "    data = data.set_index('Transaction ID')\n",
        "\n",
        "# Display the DataFrame with the new index\n",
        "print(data.head())"
      ],
      "metadata": {
        "colab": {
          "base_uri": "https://localhost:8080/"
        },
        "id": "wM_2o17WNSSf",
        "outputId": "95a2e4c8-9446-4a4b-a295-9ed4b55ed195"
      },
      "execution_count": 63,
      "outputs": [
        {
          "output_type": "stream",
          "name": "stdout",
          "text": [
            "                              Customer ID  Gender  Age Product Category  \\\n",
            "Transaction ID                                                            \n",
            "1970-01-01 00:00:00.000000001     CUST001    Male   34           Beauty   \n",
            "1970-01-01 00:00:00.000000002     CUST002  Female   26         Clothing   \n",
            "1970-01-01 00:00:00.000000003     CUST003    Male   50      Electronics   \n",
            "1970-01-01 00:00:00.000000004     CUST004    Male   37         Clothing   \n",
            "1970-01-01 00:00:00.000000005     CUST005    Male   30           Beauty   \n",
            "\n",
            "                               Quantity  Price per Unit  Total Amount  Year  \\\n",
            "Transaction ID                                                                \n",
            "1970-01-01 00:00:00.000000001         3              50           150  2023   \n",
            "1970-01-01 00:00:00.000000002         2             500          1000  2023   \n",
            "1970-01-01 00:00:00.000000003         1              30            30  2023   \n",
            "1970-01-01 00:00:00.000000004         1             500           500  2023   \n",
            "1970-01-01 00:00:00.000000005         2              50           100  2023   \n",
            "\n",
            "                               Month  Day  Day of the week  Day of the month  \\\n",
            "Transaction ID                                                                 \n",
            "1970-01-01 00:00:00.000000001     11   24                4                24   \n",
            "1970-01-01 00:00:00.000000002      2   27                0                27   \n",
            "1970-01-01 00:00:00.000000003      1   13                4                13   \n",
            "1970-01-01 00:00:00.000000004      5   21                6                21   \n",
            "1970-01-01 00:00:00.000000005      5    6                5                 6   \n",
            "\n",
            "                               Season  \n",
            "Transaction ID                         \n",
            "1970-01-01 00:00:00.000000001    Fall  \n",
            "1970-01-01 00:00:00.000000002  Winter  \n",
            "1970-01-01 00:00:00.000000003  Winter  \n",
            "1970-01-01 00:00:00.000000004  Spring  \n",
            "1970-01-01 00:00:00.000000005  Spring  \n"
          ]
        }
      ]
    },
    {
      "cell_type": "markdown",
      "source": [
        "# **Summary:**"
      ],
      "metadata": {
        "id": "XH9A2FZfOuyW"
      }
    },
    {
      "cell_type": "markdown",
      "source": [
        "# **### Updated DataFrame with New Columns:**\n",
        "\n",
        "After converting the `Order Date` to a proper date format, we created new columns to better understand the sales over time:\n",
        "\n",
        "1. **Day of the Week**: Tells us which day (e.g., Monday, Tuesday) the sale happened.\n",
        "2. **Day of the Month**: Shows the exact day of the month (e.g., 1st, 15th) when the sale happened.\n",
        "3. **Month**: Tells us in which month the sale occurred (e.g., January, March).\n",
        "4. **Year**: Shows the year the sale took place (e.g., 2023).\n",
        "5. **Season**: Groups the sales into seasons (e.g., Winter, Summer).\n",
        "\n",
        "These new columns help us look at the sales data by day, month, year, or season, making it easier to find trends and patterns."
      ],
      "metadata": {
        "id": "SHKwO68dO4QG"
      }
    },
    {
      "cell_type": "markdown",
      "source": [
        "# **##Sample Rows to Verify Transformations:**\n",
        "\n",
        "To verify the changes made to the dataset, we can look at a few sample rows. These rows will show the following columns:\n",
        "\n",
        "1. **Order Date**: The original date of the order.\n",
        "2. **Day of the Week**: The day the order was placed (e.g., Monday, Tuesday).\n",
        "3. **Day of the Month**: The specific day in the month (e.g., 1st, 15th).\n",
        "4. **Month**: The month the order was made (e.g., January, February).\n",
        "5. **Year**: The year the order occurred (e.g., 2023).\n",
        "6. **Season**: The season the order belongs to (e.g., Winter, Summer).\n",
        "\n",
        "These sample rows help confirm that the transformations (like extracting the day, month, and season) have been applied correctly to the dataset.."
      ],
      "metadata": {
        "id": "bPr_KNMnQ5MU"
      }
    },
    {
      "cell_type": "markdown",
      "source": [
        "# **5. Correlation Analysis**"
      ],
      "metadata": {
        "id": "_vWRe_10Rq5T"
      }
    },
    {
      "cell_type": "markdown",
      "source": [
        "# **Task-1:\tCompute the correlation matrix for numerical columns**"
      ],
      "metadata": {
        "id": "I51aElSsWT9I"
      }
    },
    {
      "cell_type": "code",
      "source": [
        "# prompt:   Compute the correlation matrix for numerical columns\n",
        "\n",
        "import matplotlib.pyplot as plt\n",
        "import seaborn as sns # Import seaborn if not already imported\n",
        "\n",
        "# Compute the correlation matrix for numerical columns only\n",
        "correlation_matrix = data.select_dtypes(include=np.number).corr()\n",
        "# Select only numerical columns before calculating correlation\n",
        "\n",
        "print(correlation_matrix)\n",
        "\n",
        "# Display the correlation matrix using a heatmap\n",
        "plt.figure(figsize=(12, 10))\n",
        "sns.heatmap(correlation_matrix, annot=True, cmap='coolwarm', fmt=\".2f\")\n",
        "plt.title('Correlation Matrix of Numerical Features')\n",
        "plt.show()\n"
      ],
      "metadata": {
        "colab": {
          "base_uri": "https://localhost:8080/",
          "height": 1000
        },
        "id": "eIdLR6wQRwab",
        "outputId": "0ffccf57-4a1b-44af-b7ce-6858f0ce04e6"
      },
      "execution_count": 65,
      "outputs": [
        {
          "output_type": "stream",
          "name": "stdout",
          "text": [
            "                       Age  Quantity  Price per Unit  Total Amount      Year  \\\n",
            "Age               1.000000 -0.023737       -0.038423     -0.060568  0.023269   \n",
            "Quantity         -0.023737  1.000000        0.017501      0.373707 -0.020324   \n",
            "Price per Unit   -0.038423  0.017501        1.000000      0.851925  0.020097   \n",
            "Total Amount     -0.060568  0.373707        0.851925      1.000000  0.024714   \n",
            "Year              0.023269 -0.020324        0.020097      0.024714  1.000000   \n",
            "Month            -0.000640 -0.021803       -0.008161     -0.005197 -0.071981   \n",
            "Day               0.041899  0.029650        0.018303      0.036889 -0.072244   \n",
            "Day of the week   0.024743 -0.040846        0.041272      0.009262 -0.065555   \n",
            "Day of the month  0.041899  0.029650        0.018303      0.036889 -0.072244   \n",
            "\n",
            "                     Month       Day  Day of the week  Day of the month  \n",
            "Age              -0.000640  0.041899         0.024743          0.041899  \n",
            "Quantity         -0.021803  0.029650        -0.040846          0.029650  \n",
            "Price per Unit   -0.008161  0.018303         0.041272          0.018303  \n",
            "Total Amount     -0.005197  0.036889         0.009262          0.036889  \n",
            "Year             -0.071981 -0.072244        -0.065555         -0.072244  \n",
            "Month             1.000000 -0.013895        -0.008455         -0.013895  \n",
            "Day              -0.013895  1.000000        -0.029031          1.000000  \n",
            "Day of the week  -0.008455 -0.029031         1.000000         -0.029031  \n",
            "Day of the month -0.013895  1.000000        -0.029031          1.000000  \n"
          ]
        },
        {
          "output_type": "display_data",
          "data": {
            "text/plain": [
              "<Figure size 1200x1000 with 2 Axes>"
            ],
            "image/png": "[encoded data removed]"
          },
          "metadata": {}
        }
      ]
    },
    {
      "cell_type": "markdown",
      "source": [
        "# **Task-2:Visualize the correlation matrix using a heatmap**"
      ],
      "metadata": {
        "id": "xh6B8zO4WYTH"
      }
    },
    {
      "cell_type": "code",
      "source": [
        "# prompt: Visualize the correlation matrix using a heatmap\n",
        "\n",
        "# Assuming 'data' DataFrame is already loaded and processed as in the previous code.\n",
        "\n",
        "# Compute the correlation matrix for numerical columns\n",
        "correlation_matrix = data.select_dtypes(include=np.number).corr()\n",
        "\n",
        "# Visualize the correlation matrix using a heatmap\n",
        "plt.figure(figsize=(12, 10))\n",
        "sns.heatmap(correlation_matrix, annot=True, cmap='coolwarm', fmt=\".2f\")\n",
        "plt.title('Correlation Matrix of Numerical Features')\n",
        "plt.show()"
      ],
      "metadata": {
        "colab": {
          "base_uri": "https://localhost:8080/",
          "height": 853
        },
        "id": "Gks4t33LSBmr",
        "outputId": "808d6234-5db6-4e1f-8df6-51847cc724c9"
      },
      "execution_count": 69,
      "outputs": [
        {
          "output_type": "display_data",
          "data": {
            "text/plain": [
              "<Figure size 1200x1000 with 2 Axes>"
            ],
            "image/png": "[encoded data removed]"
          },
          "metadata": {}
        }
      ]
    },
    {
      "cell_type": "markdown",
      "source": [
        "# **Task-3:Identify and discuss two key relationships from the heatmap.**"
      ],
      "metadata": {
        "id": "9kDdMotfWcU4"
      }
    },
    {
      "cell_type": "code",
      "source": [
        "# prompt: Identify and discuss two key relationships from the heatmap.\n",
        "\n",
        "# Assuming 'data' DataFrame is already loaded and processed as in the previous code.\n",
        "\n",
        "# Compute the correlation matrix for numerical columns\n",
        "correlation_matrix = data.select_dtypes(include=np.number).corr()\n",
        "\n",
        "# Visualize the correlation matrix using a heatmap\n",
        "plt.figure(figsize=(12, 10))\n",
        "sns.heatmap(correlation_matrix, annot=True, cmap='coolwarm', fmt=\".2f\")\n",
        "plt.title('Correlation Matrix of Numerical Features')\n",
        "plt.show()\n",
        "\n",
        "# Discussion of two key relationships from the heatmap:\n",
        "print(\"Analysis of Heatmap:\")\n",
        "\n",
        "# Relationship 1:  Quantity and Total Amount\n",
        "print(\"1. Quantity and Total Amount:\")\n",
        "quantity_total_amount_corr = correlation_matrix.loc['Quantity', 'Total Amount']\n",
        "print(f\"- Correlation coefficient: {quantity_total_amount_corr:.2f}\")\n",
        "if abs(quantity_total_amount_corr) > 0.5:\n",
        "    print(\"- Strong positive correlation.  As the quantity of items purchased increases, the total amount spent tends to increase.\")\n",
        "elif abs(quantity_total_amount_corr) > 0.3 :\n",
        "    print(\"- Moderate positive correlation. There is a tendency for total amount to increase with quantity, but other factors likely play a role.\")\n",
        "else:\n",
        "    print(\"- Weak or no correlation. The total amount spent does not appear strongly related to the quantity purchased.\")\n",
        "\n",
        "# Relationship 2: Price per Unit and Total Amount\n",
        "print(\"\\n2. Price per Unit and Total Amount:\")\n",
        "price_total_amount_corr = correlation_matrix.loc['Price per Unit', 'Total Amount']\n",
        "print(f\"- Correlation coefficient: {price_total_amount_corr:.2f}\")\n",
        "if abs(price_total_amount_corr) > 0.5:\n",
        "    print(\"- Strong positive correlation.  Higher priced items tend to lead to higher total transaction amounts.\")\n",
        "elif abs(price_total_amount_corr) > 0.3:\n",
        "    print(\"- Moderate positive correlation.  There is a tendency for total amount to increase with price per unit, however other factors are likely influencing the relationship.\")\n",
        "else:\n",
        "    print(\"- Weak or no correlation. The total purchase amount does not strongly depend on the price of individual items.\")"
      ],
      "metadata": {
        "colab": {
          "base_uri": "https://localhost:8080/",
          "height": 992
        },
        "id": "vKTJqNubSPpz",
        "outputId": "950061bf-451c-42ec-8af8-b07d5dbcac52"
      },
      "execution_count": 70,
      "outputs": [
        {
          "output_type": "display_data",
          "data": {
            "text/plain": [
              "<Figure size 1200x1000 with 2 Axes>"
            ],
            "image/png": "[encoded data removed]"
          },
          "metadata": {}
        },
        {
          "output_type": "stream",
          "name": "stdout",
          "text": [
            "Analysis of Heatmap:\n",
            "1. Quantity and Total Amount:\n",
            "- Correlation coefficient: 0.37\n",
            "- Moderate positive correlation. There is a tendency for total amount to increase with quantity, but other factors likely play a role.\n",
            "\n",
            "2. Price per Unit and Total Amount:\n",
            "- Correlation coefficient: 0.85\n",
            "- Strong positive correlation.  Higher priced items tend to lead to higher total transaction amounts.\n"
          ]
        }
      ]
    },
    {
      "cell_type": "markdown",
      "source": [
        "# **Summary:**"
      ],
      "metadata": {
        "id": "hqzHiQ15SgL7"
      }
    },
    {
      "cell_type": "markdown",
      "source": [
        "# **###  Heatmap Visualization:**\n",
        "\n",
        "A **heatmap** is a chart that shows how different numerical features in the dataset are related to each other using colors.\n",
        "\n",
        "- **Purpose**: It helps us see which features are strongly connected or not connected at all.\n",
        "- **Colors**: Darker colors show a stronger relationship, while lighter colors mean a weaker or no relationship.\n",
        "  \n",
        "By looking at the heatmap, we can quickly identify important patterns, like which factors (e.g., quantity and sales) are closely linked."
      ],
      "metadata": {
        "id": "Snn-IxieSjyK"
      }
    },
    {
      "cell_type": "markdown",
      "source": [
        "# **Observations about key correlations**\n",
        "Key correlations show how different features in the dataset are related to each other. Here’s what to look for:\n",
        "\n",
        "1. **Strong Positive Correlation**: When two features increase together, like **Quantity** and **Sales**—the more items sold, the higher the sales.\n",
        "2. **Strong Negative Correlation**: When one feature increases while the other decreases, like **Discount** and **Sales**—a higher discount might lead to lower sales price.\n",
        "3. **No Correlation**: Some features don't seem to affect each other, like **Region** and **Quantity**, meaning they aren't closely related.\n",
        "\n",
        "These correlations help us understand which factors are important for business decisions or for predicting future sales."
      ],
      "metadata": {
        "id": "tBwB2sRNSwe6"
      }
    },
    {
      "cell_type": "markdown",
      "source": [
        "# **6. DataFrame Operations**"
      ],
      "metadata": {
        "id": "RYy6zyWtTLk1"
      }
    },
    {
      "cell_type": "markdown",
      "source": [
        "# **Task-1:Use loc to extract sales data for a specific date or range of dates.**"
      ],
      "metadata": {
        "id": "Tusm12l4WFj_"
      }
    },
    {
      "cell_type": "code",
      "source": [
        "# prompt: Use loc to extract sales data for a specific date or range of dates.\n",
        "\n",
        "# Assuming 'data' DataFrame is already loaded and processed as in the previous code.\n",
        "\n",
        "# Extract sales data for a specific date (e.g., '2023-10-26')\n",
        "specific_date_sales = data.loc[data['Date'] == '2023-10-26']\n",
        "print(\"Sales for 2023-10-26:\\n\", specific_date_sales)\n",
        "\n",
        "# Extract sales data for a range of dates (e.g., from '2023-10-20' to '2023-10-25')\n",
        "start_date = '2023-10-20'\n",
        "end_date = '2023-10-25'\n",
        "date_range_sales = data.loc[(data['Date'] >= start_date) & (data['Date'] <= end_date)]\n",
        "print(f\"\\nSales between {start_date} and {end_date}:\\n\", date_range_sales)"
      ],
      "metadata": {
        "colab": {
          "base_uri": "https://localhost:8080/"
        },
        "id": "_pAzs1O_TSpS",
        "outputId": "a38d7df0-5635-4ae5-9d02-97fc28554189"
      },
      "execution_count": 71,
      "outputs": [
        {
          "output_type": "stream",
          "name": "stdout",
          "text": [
            "Sales for 2023-10-26:\n",
            "      Transaction ID        Date Customer ID  Gender  Age Product Category  \\\n",
            "125             126  2023-10-26     CUST126  Female   28         Clothing   \n",
            "348             349  2023-10-26     CUST349  Female   57           Beauty   \n",
            "439             440  2023-10-26     CUST440    Male   64         Clothing   \n",
            "\n",
            "     Quantity  Price per Unit  Total Amount  \n",
            "125         3              30            90  \n",
            "348         1              50            50  \n",
            "439         2             300           600  \n",
            "\n",
            "Sales between 2023-10-20 and 2023-10-25:\n",
            "      Transaction ID        Date Customer ID  Gender  Age Product Category  \\\n",
            "59               60  2023-10-23     CUST060    Male   30           Beauty   \n",
            "248             249  2023-10-20     CUST249    Male   20         Clothing   \n",
            "249             250  2023-10-23     CUST250    Male   48      Electronics   \n",
            "317             318  2023-10-24     CUST318    Male   61         Clothing   \n",
            "341             342  2023-10-24     CUST342  Female   43         Clothing   \n",
            "502             503  2023-10-25     CUST503    Male   45           Beauty   \n",
            "515             516  2023-10-23     CUST516    Male   30           Beauty   \n",
            "563             564  2023-10-24     CUST564    Male   50      Electronics   \n",
            "599             600  2023-10-22     CUST600  Female   59           Beauty   \n",
            "679             680  2023-10-22     CUST680  Female   53         Clothing   \n",
            "766             767  2023-10-24     CUST767    Male   39           Beauty   \n",
            "769             770  2023-10-22     CUST770    Male   32         Clothing   \n",
            "868             869  2023-10-25     CUST869    Male   37           Beauty   \n",
            "921             922  2023-10-21     CUST922    Male   41      Electronics   \n",
            "936             937  2023-10-23     CUST937  Female   62           Beauty   \n",
            "\n",
            "     Quantity  Price per Unit  Total Amount  \n",
            "59          3              50           150  \n",
            "248         1              50            50  \n",
            "249         1              50            50  \n",
            "317         1              25            25  \n",
            "341         4             500          2000  \n",
            "502         4             500          2000  \n",
            "515         4              25           100  \n",
            "563         2              50           100  \n",
            "599         2             500          1000  \n",
            "679         3             300           900  \n",
            "766         3              25            75  \n",
            "769         1              50            50  \n",
            "868         3             500          1500  \n",
            "921         1              50            50  \n",
            "936         1             500           500  \n"
          ]
        }
      ]
    },
    {
      "cell_type": "markdown",
      "source": [
        "# **Task-2:Use  iloc to extract the first 10 rows of the dataset**"
      ],
      "metadata": {
        "id": "DQlB9F5cV_6v"
      }
    },
    {
      "cell_type": "code",
      "source": [
        "# prompt: Use  iloc to extract the first 10 rows of the dataset\n",
        "\n",
        "# Assuming 'data' DataFrame is already loaded and processed as in the previous code.\n",
        "\n",
        "# Extract the first 10 rows using iloc\n",
        "first_10_rows = data.iloc[:10]\n",
        "\n",
        "# Display the first 10 rows\n",
        "first_10_rows"
      ],
      "metadata": {
        "colab": {
          "base_uri": "https://localhost:8080/",
          "height": 363
        },
        "id": "0dQXDlyETeUC",
        "outputId": "69de3ea8-6e13-4108-cae0-c457fd9e2d77"
      },
      "execution_count": 72,
      "outputs": [
        {
          "output_type": "execute_result",
          "data": {
            "text/plain": [
              "   Transaction ID        Date Customer ID  Gender  Age Product Category  \\\n",
              "0               1  2023-11-24     CUST001    Male   34           Beauty   \n",
              "1               2  2023-02-27     CUST002  Female   26         Clothing   \n",
              "2               3  2023-01-13     CUST003    Male   50      Electronics   \n",
              "3               4  2023-05-21     CUST004    Male   37         Clothing   \n",
              "4               5  2023-05-06     CUST005    Male   30           Beauty   \n",
              "5               6  2023-04-25     CUST006  Female   45           Beauty   \n",
              "6               7  2023-03-13     CUST007    Male   46         Clothing   \n",
              "7               8  2023-02-22     CUST008    Male   30      Electronics   \n",
              "8               9  2023-12-13     CUST009    Male   63      Electronics   \n",
              "9              10  2023-10-07     CUST010  Female   52         Clothing   \n",
              "\n",
              "   Quantity  Price per Unit  Total Amount  \n",
              "0         3              50           150  \n",
              "1         2             500          1000  \n",
              "2         1              30            30  \n",
              "3         1             500           500  \n",
              "4         2              50           100  \n",
              "5         1              30            30  \n",
              "6         2              25            50  \n",
              "7         4              25           100  \n",
              "8         2             300           600  \n",
              "9         4              50           200  "
            ],
            "text/html": [
              "\n",
              "  <div id=\"df-413d844c-dfca-4bc2-8690-7625e180c2f2\" class=\"colab-df-container\">\n",
              "    <div>\n",
              "<style scoped>\n",
              "    .dataframe tbody tr th:only-of-type {\n",
              "        vertical-align: middle;\n",
              "    }\n",
              "\n",
              "    .dataframe tbody tr th {\n",
              "        vertical-align: top;\n",
              "    }\n",
              "\n",
              "    .dataframe thead th {\n",
              "        text-align: right;\n",
              "    }\n",
              "</style>\n",
              "<table border=\"1\" class=\"dataframe\">\n",
              "  <thead>\n",
              "    <tr style=\"text-align: right;\">\n",
              "      <th></th>\n",
              "      <th>Transaction ID</th>\n",
              "      <th>Date</th>\n",
              "      <th>Customer ID</th>\n",
              "      <th>Gender</th>\n",
              "      <th>Age</th>\n",
              "      <th>Product Category</th>\n",
              "      <th>Quantity</th>\n",
              "      <th>Price per Unit</th>\n",
              "      <th>Total Amount</th>\n",
              "    </tr>\n",
              "  </thead>\n",
              "  <tbody>\n",
              "    <tr>\n",
              "      <th>0</th>\n",
              "      <td>1</td>\n",
              "      <td>2023-11-24</td>\n",
              "      <td>CUST001</td>\n",
              "      <td>Male</td>\n",
              "      <td>34</td>\n",
              "      <td>Beauty</td>\n",
              "      <td>3</td>\n",
              "      <td>50</td>\n",
              "      <td>150</td>\n",
              "    </tr>\n",
              "    <tr>\n",
              "      <th>1</th>\n",
              "      <td>2</td>\n",
              "      <td>2023-02-27</td>\n",
              "      <td>CUST002</td>\n",
              "      <td>Female</td>\n",
              "      <td>26</td>\n",
              "      <td>Clothing</td>\n",
              "      <td>2</td>\n",
              "      <td>500</td>\n",
              "      <td>1000</td>\n",
              "    </tr>\n",
              "    <tr>\n",
              "      <th>2</th>\n",
              "      <td>3</td>\n",
              "      <td>2023-01-13</td>\n",
              "      <td>CUST003</td>\n",
              "      <td>Male</td>\n",
              "      <td>50</td>\n",
              "      <td>Electronics</td>\n",
              "      <td>1</td>\n",
              "      <td>30</td>\n",
              "      <td>30</td>\n",
              "    </tr>\n",
              "    <tr>\n",
              "      <th>3</th>\n",
              "      <td>4</td>\n",
              "      <td>2023-05-21</td>\n",
              "      <td>CUST004</td>\n",
              "      <td>Male</td>\n",
              "      <td>37</td>\n",
              "      <td>Clothing</td>\n",
              "      <td>1</td>\n",
              "      <td>500</td>\n",
              "      <td>500</td>\n",
              "    </tr>\n",
              "    <tr>\n",
              "      <th>4</th>\n",
              "      <td>5</td>\n",
              "      <td>2023-05-06</td>\n",
              "      <td>CUST005</td>\n",
              "      <td>Male</td>\n",
              "      <td>30</td>\n",
              "      <td>Beauty</td>\n",
              "      <td>2</td>\n",
              "      <td>50</td>\n",
              "      <td>100</td>\n",
              "    </tr>\n",
              "    <tr>\n",
              "      <th>5</th>\n",
              "      <td>6</td>\n",
              "      <td>2023-04-25</td>\n",
              "      <td>CUST006</td>\n",
              "      <td>Female</td>\n",
              "      <td>45</td>\n",
              "      <td>Beauty</td>\n",
              "      <td>1</td>\n",
              "      <td>30</td>\n",
              "      <td>30</td>\n",
              "    </tr>\n",
              "    <tr>\n",
              "      <th>6</th>\n",
              "      <td>7</td>\n",
              "      <td>2023-03-13</td>\n",
              "      <td>CUST007</td>\n",
              "      <td>Male</td>\n",
              "      <td>46</td>\n",
              "      <td>Clothing</td>\n",
              "      <td>2</td>\n",
              "      <td>25</td>\n",
              "      <td>50</td>\n",
              "    </tr>\n",
              "    <tr>\n",
              "      <th>7</th>\n",
              "      <td>8</td>\n",
              "      <td>2023-02-22</td>\n",
              "      <td>CUST008</td>\n",
              "      <td>Male</td>\n",
              "      <td>30</td>\n",
              "      <td>Electronics</td>\n",
              "      <td>4</td>\n",
              "      <td>25</td>\n",
              "      <td>100</td>\n",
              "    </tr>\n",
              "    <tr>\n",
              "      <th>8</th>\n",
              "      <td>9</td>\n",
              "      <td>2023-12-13</td>\n",
              "      <td>CUST009</td>\n",
              "      <td>Male</td>\n",
              "      <td>63</td>\n",
              "      <td>Electronics</td>\n",
              "      <td>2</td>\n",
              "      <td>300</td>\n",
              "      <td>600</td>\n",
              "    </tr>\n",
              "    <tr>\n",
              "      <th>9</th>\n",
              "      <td>10</td>\n",
              "      <td>2023-10-07</td>\n",
              "      <td>CUST010</td>\n",
              "      <td>Female</td>\n",
              "      <td>52</td>\n",
              "      <td>Clothing</td>\n",
              "      <td>4</td>\n",
              "      <td>50</td>\n",
              "      <td>200</td>\n",
              "    </tr>\n",
              "  </tbody>\n",
              "</table>\n",
              "</div>\n",
              "    <div class=\"colab-df-buttons\">\n",
              "\n",
              "  <div class=\"colab-df-container\">\n",
              "    <button class=\"colab-df-convert\" onclick=\"convertToInteractive('df-413d844c-dfca-4bc2-8690-7625e180c2f2')\"\n",
              "            title=\"Convert this dataframe to an interactive table.\"\n",
              "            style=\"display:none;\">\n",
              "\n",
              "  <svg xmlns=\"http://www.w3.org/2000/svg\" height=\"24px\" viewBox=\"0 -960 960 960\">\n",
              "    <path d=\"M120-120v-720h720v720H120Zm60-500h600v-160H180v160Zm220 220h160v-160H400v160Zm0 220h160v-160H400v160ZM180-400h160v-160H180v160Zm440 0h160v-160H620v160ZM180-180h160v-160H180v160Zm440 0h160v-160H620v160Z\"/>\n",
              "  </svg>\n",
              "    </button>\n",
              "\n",
              "  <style>\n",
              "    .colab-df-container {\n",
              "      display:flex;\n",
              "      gap: 12px;\n",
              "    }\n",
              "\n",
              "    .colab-df-convert {\n",
              "      background-color: #E8F0FE;\n",
              "      border: none;\n",
              "      border-radius: 50%;\n",
              "      cursor: pointer;\n",
              "      display: none;\n",
              "      fill: #1967D2;\n",
              "      height: 32px;\n",
              "      padding: 0 0 0 0;\n",
              "      width: 32px;\n",
              "    }\n",
              "\n",
              "    .colab-df-convert:hover {\n",
              "      background-color: #E2EBFA;\n",
              "      box-shadow: 0px 1px 2px rgba(60, 64, 67, 0.3), 0px 1px 3px 1px rgba(60, 64, 67, 0.15);\n",
              "      fill: #174EA6;\n",
              "    }\n",
              "\n",
              "    .colab-df-buttons div {\n",
              "      margin-bottom: 4px;\n",
              "    }\n",
              "\n",
              "    [theme=dark] .colab-df-convert {\n",
              "      background-color: #3B4455;\n",
              "      fill: #D2E3FC;\n",
              "    }\n",
              "\n",
              "    [theme=dark] .colab-df-convert:hover {\n",
              "      background-color: #434B5C;\n",
              "      box-shadow: 0px 1px 3px 1px rgba(0, 0, 0, 0.15);\n",
              "      filter: drop-shadow(0px 1px 2px rgba(0, 0, 0, 0.3));\n",
              "      fill: #FFFFFF;\n",
              "    }\n",
              "  </style>\n",
              "\n",
              "    <script>\n",
              "      const buttonEl =\n",
              "        document.querySelector('#df-413d844c-dfca-4bc2-8690-7625e180c2f2 button.colab-df-convert');\n",
              "      buttonEl.style.display =\n",
              "        google.colab.kernel.accessAllowed ? 'block' : 'none';\n",
              "\n",
              "      async function convertToInteractive(key) {\n",
              "        const element = document.querySelector('#df-413d844c-dfca-4bc2-8690-7625e180c2f2');\n",
              "        const dataTable =\n",
              "          await google.colab.kernel.invokeFunction('convertToInteractive',\n",
              "                                                    [key], {});\n",
              "        if (!dataTable) return;\n",
              "\n",
              "        const docLinkHtml = 'Like what you see? Visit the ' +\n",
              "          '<a target=\"_blank\" href=https://colab.research.google.com/notebooks/data_table.ipynb>data table notebook</a>'\n",
              "          + ' to learn more about interactive tables.';\n",
              "        element.innerHTML = '';\n",
              "        dataTable['output_type'] = 'display_data';\n",
              "        await google.colab.output.renderOutput(dataTable, element);\n",
              "        const docLink = document.createElement('div');\n",
              "        docLink.innerHTML = docLinkHtml;\n",
              "        element.appendChild(docLink);\n",
              "      }\n",
              "    </script>\n",
              "  </div>\n",
              "\n",
              "\n",
              "<div id=\"df-0da0cecb-a3bf-4b9b-876d-de35bcc3a787\">\n",
              "  <button class=\"colab-df-quickchart\" onclick=\"quickchart('df-0da0cecb-a3bf-4b9b-876d-de35bcc3a787')\"\n",
              "            title=\"Suggest charts\"\n",
              "            style=\"display:none;\">\n",
              "\n",
              "<svg xmlns=\"http://www.w3.org/2000/svg\" height=\"24px\"viewBox=\"0 0 24 24\"\n",
              "     width=\"24px\">\n",
              "    <g>\n",
              "        <path d=\"M19 3H5c-1.1 0-2 .9-2 2v14c0 1.1.9 2 2 2h14c1.1 0 2-.9 2-2V5c0-1.1-.9-2-2-2zM9 17H7v-7h2v7zm4 0h-2V7h2v10zm4 0h-2v-4h2v4z\"/>\n",
              "    </g>\n",
              "</svg>\n",
              "  </button>\n",
              "\n",
              "<style>\n",
              "  .colab-df-quickchart {\n",
              "      --bg-color: #E8F0FE;\n",
              "      --fill-color: #1967D2;\n",
              "      --hover-bg-color: #E2EBFA;\n",
              "      --hover-fill-color: #174EA6;\n",
              "      --disabled-fill-color: #AAA;\n",
              "      --disabled-bg-color: #DDD;\n",
              "  }\n",
              "\n",
              "  [theme=dark] .colab-df-quickchart {\n",
              "      --bg-color: #3B4455;\n",
              "      --fill-color: #D2E3FC;\n",
              "      --hover-bg-color: #434B5C;\n",
              "      --hover-fill-color: #FFFFFF;\n",
              "      --disabled-bg-color: #3B4455;\n",
              "      --disabled-fill-color: #666;\n",
              "  }\n",
              "\n",
              "  .colab-df-quickchart {\n",
              "    background-color: var(--bg-color);\n",
              "    border: none;\n",
              "    border-radius: 50%;\n",
              "    cursor: pointer;\n",
              "    display: none;\n",
              "    fill: var(--fill-color);\n",
              "    height: 32px;\n",
              "    padding: 0;\n",
              "    width: 32px;\n",
              "  }\n",
              "\n",
              "  .colab-df-quickchart:hover {\n",
              "    background-color: var(--hover-bg-color);\n",
              "    box-shadow: 0 1px 2px rgba(60, 64, 67, 0.3), 0 1px 3px 1px rgba(60, 64, 67, 0.15);\n",
              "    fill: var(--button-hover-fill-color);\n",
              "  }\n",
              "\n",
              "  .colab-df-quickchart-complete:disabled,\n",
              "  .colab-df-quickchart-complete:disabled:hover {\n",
              "    background-color: var(--disabled-bg-color);\n",
              "    fill: var(--disabled-fill-color);\n",
              "    box-shadow: none;\n",
              "  }\n",
              "\n",
              "  .colab-df-spinner {\n",
              "    border: 2px solid var(--fill-color);\n",
              "    border-color: transparent;\n",
              "    border-bottom-color: var(--fill-color);\n",
              "    animation:\n",
              "      spin 1s steps(1) infinite;\n",
              "  }\n",
              "\n",
              "  @keyframes spin {\n",
              "    0% {\n",
              "      border-color: transparent;\n",
              "      border-bottom-color: var(--fill-color);\n",
              "      border-left-color: var(--fill-color);\n",
              "    }\n",
              "    20% {\n",
              "      border-color: transparent;\n",
              "      border-left-color: var(--fill-color);\n",
              "      border-top-color: var(--fill-color);\n",
              "    }\n",
              "    30% {\n",
              "      border-color: transparent;\n",
              "      border-left-color: var(--fill-color);\n",
              "      border-top-color: var(--fill-color);\n",
              "      border-right-color: var(--fill-color);\n",
              "    }\n",
              "    40% {\n",
              "      border-color: transparent;\n",
              "      border-right-color: var(--fill-color);\n",
              "      border-top-color: var(--fill-color);\n",
              "    }\n",
              "    60% {\n",
              "      border-color: transparent;\n",
              "      border-right-color: var(--fill-color);\n",
              "    }\n",
              "    80% {\n",
              "      border-color: transparent;\n",
              "      border-right-color: var(--fill-color);\n",
              "      border-bottom-color: var(--fill-color);\n",
              "    }\n",
              "    90% {\n",
              "      border-color: transparent;\n",
              "      border-bottom-color: var(--fill-color);\n",
              "    }\n",
              "  }\n",
              "</style>\n",
              "\n",
              "  <script>\n",
              "    async function quickchart(key) {\n",
              "      const quickchartButtonEl =\n",
              "        document.querySelector('#' + key + ' button');\n",
              "      quickchartButtonEl.disabled = true;  // To prevent multiple clicks.\n",
              "      quickchartButtonEl.classList.add('colab-df-spinner');\n",
              "      try {\n",
              "        const charts = await google.colab.kernel.invokeFunction(\n",
              "            'suggestCharts', [key], {});\n",
              "      } catch (error) {\n",
              "        console.error('Error during call to suggestCharts:', error);\n",
              "      }\n",
              "      quickchartButtonEl.classList.remove('colab-df-spinner');\n",
              "      quickchartButtonEl.classList.add('colab-df-quickchart-complete');\n",
              "    }\n",
              "    (() => {\n",
              "      let quickchartButtonEl =\n",
              "        document.querySelector('#df-0da0cecb-a3bf-4b9b-876d-de35bcc3a787 button');\n",
              "      quickchartButtonEl.style.display =\n",
              "        google.colab.kernel.accessAllowed ? 'block' : 'none';\n",
              "    })();\n",
              "  </script>\n",
              "</div>\n",
              "\n",
              "  <div id=\"id_2cf11334-47f2-4de9-9389-71447bdaa066\">\n",
              "    <style>\n",
              "      .colab-df-generate {\n",
              "        background-color: #E8F0FE;\n",
              "        border: none;\n",
              "        border-radius: 50%;\n",
              "        cursor: pointer;\n",
              "        display: none;\n",
              "        fill: #1967D2;\n",
              "        height: 32px;\n",
              "        padding: 0 0 0 0;\n",
              "        width: 32px;\n",
              "      }\n",
              "\n",
              "      .colab-df-generate:hover {\n",
              "        background-color: #E2EBFA;\n",
              "        box-shadow: 0px 1px 2px rgba(60, 64, 67, 0.3), 0px 1px 3px 1px rgba(60, 64, 67, 0.15);\n",
              "        fill: #174EA6;\n",
              "      }\n",
              "\n",
              "      [theme=dark] .colab-df-generate {\n",
              "        background-color: #3B4455;\n",
              "        fill: #D2E3FC;\n",
              "      }\n",
              "\n",
              "      [theme=dark] .colab-df-generate:hover {\n",
              "        background-color: #434B5C;\n",
              "        box-shadow: 0px 1px 3px 1px rgba(0, 0, 0, 0.15);\n",
              "        filter: drop-shadow(0px 1px 2px rgba(0, 0, 0, 0.3));\n",
              "        fill: #FFFFFF;\n",
              "      }\n",
              "    </style>\n",
              "    <button class=\"colab-df-generate\" onclick=\"generateWithVariable('first_10_rows')\"\n",
              "            title=\"Generate code using this dataframe.\"\n",
              "            style=\"display:none;\">\n",
              "\n",
              "  <svg xmlns=\"http://www.w3.org/2000/svg\" height=\"24px\"viewBox=\"0 0 24 24\"\n",
              "       width=\"24px\">\n",
              "    <path d=\"M7,19H8.4L18.45,9,17,7.55,7,17.6ZM5,21V16.75L18.45,3.32a2,2,0,0,1,2.83,0l1.4,1.43a1.91,1.91,0,0,1,.58,1.4,1.91,1.91,0,0,1-.58,1.4L9.25,21ZM18.45,9,17,7.55Zm-12,3A5.31,5.31,0,0,0,4.9,8.1,5.31,5.31,0,0,0,1,6.5,5.31,5.31,0,0,0,4.9,4.9,5.31,5.31,0,0,0,6.5,1,5.31,5.31,0,0,0,8.1,4.9,5.31,5.31,0,0,0,12,6.5,5.46,5.46,0,0,0,6.5,12Z\"/>\n",
              "  </svg>\n",
              "    </button>\n",
              "    <script>\n",
              "      (() => {\n",
              "      const buttonEl =\n",
              "        document.querySelector('#id_2cf11334-47f2-4de9-9389-71447bdaa066 button.colab-df-generate');\n",
              "      buttonEl.style.display =\n",
              "        google.colab.kernel.accessAllowed ? 'block' : 'none';\n",
              "\n",
              "      buttonEl.onclick = () => {\n",
              "        google.colab.notebook.generateWithVariable('first_10_rows');\n",
              "      }\n",
              "      })();\n",
              "    </script>\n",
              "  </div>\n",
              "\n",
              "    </div>\n",
              "  </div>\n"
            ],
            "application/vnd.google.colaboratory.intrinsic+json": {
              "type": "dataframe",
              "variable_name": "first_10_rows",
              "summary": "{\n  \"name\": \"first_10_rows\",\n  \"rows\": 10,\n  \"fields\": [\n    {\n      \"column\": \"Transaction ID\",\n      \"properties\": {\n        \"dtype\": \"number\",\n        \"std\": 3,\n        \"min\": 1,\n        \"max\": 10,\n        \"num_unique_values\": 10,\n        \"samples\": [\n          9,\n          2,\n          6\n        ],\n        \"semantic_type\": \"\",\n        \"description\": \"\"\n      }\n    },\n    {\n      \"column\": \"Date\",\n      \"properties\": {\n        \"dtype\": \"object\",\n        \"num_unique_values\": 10,\n        \"samples\": [\n          \"2023-12-13\",\n          \"2023-02-27\",\n          \"2023-04-25\"\n        ],\n        \"semantic_type\": \"\",\n        \"description\": \"\"\n      }\n    },\n    {\n      \"column\": \"Customer ID\",\n      \"properties\": {\n        \"dtype\": \"string\",\n        \"num_unique_values\": 10,\n        \"samples\": [\n          \"CUST009\",\n          \"CUST002\",\n          \"CUST006\"\n        ],\n        \"semantic_type\": \"\",\n        \"description\": \"\"\n      }\n    },\n    {\n      \"column\": \"Gender\",\n      \"properties\": {\n        \"dtype\": \"category\",\n        \"num_unique_values\": 2,\n        \"samples\": [\n          \"Female\",\n          \"Male\"\n        ],\n        \"semantic_type\": \"\",\n        \"description\": \"\"\n      }\n    },\n    {\n      \"column\": \"Age\",\n      \"properties\": {\n        \"dtype\": \"number\",\n        \"std\": 11,\n        \"min\": 26,\n        \"max\": 63,\n        \"num_unique_values\": 9,\n        \"samples\": [\n          63,\n          26\n        ],\n        \"semantic_type\": \"\",\n        \"description\": \"\"\n      }\n    },\n    {\n      \"column\": \"Product Category\",\n      \"properties\": {\n        \"dtype\": \"category\",\n        \"num_unique_values\": 3,\n        \"samples\": [\n          \"Beauty\",\n          \"Clothing\"\n        ],\n        \"semantic_type\": \"\",\n        \"description\": \"\"\n      }\n    },\n    {\n      \"column\": \"Quantity\",\n      \"properties\": {\n        \"dtype\": \"number\",\n        \"std\": 1,\n        \"min\": 1,\n        \"max\": 4,\n        \"num_unique_values\": 4,\n        \"samples\": [\n          2,\n          4\n        ],\n        \"semantic_type\": \"\",\n        \"description\": \"\"\n      }\n    },\n    {\n      \"column\": \"Price per Unit\",\n      \"properties\": {\n        \"dtype\": \"number\",\n        \"std\": 199,\n        \"min\": 25,\n        \"max\": 500,\n        \"num_unique_values\": 5,\n        \"samples\": [\n          500,\n          300\n        ],\n        \"semantic_type\": \"\",\n        \"description\": \"\"\n      }\n    },\n    {\n      \"column\": \"Total Amount\",\n      \"properties\": {\n        \"dtype\": \"number\",\n        \"std\": 322,\n        \"min\": 30,\n        \"max\": 1000,\n        \"num_unique_values\": 8,\n        \"samples\": [\n          1000,\n          50\n        ],\n        \"semantic_type\": \"\",\n        \"description\": \"\"\n      }\n    }\n  ]\n}"
            }
          },
          "metadata": {},
          "execution_count": 72
        }
      ]
    },
    {
      "cell_type": "markdown",
      "source": [
        "# **Task-3:Drop a column (e.g., Region) using drop(axis=1).**"
      ],
      "metadata": {
        "id": "CpPUVwzUV3QX"
      }
    },
    {
      "cell_type": "code",
      "source": [
        "# prompt: Drop a column (e.g., Region) using drop(axis=1).\n",
        "\n",
        "# Assuming 'data' DataFrame is already loaded and processed as in the previous code.\n",
        "\n",
        "# Drop the 'Region' column if it exists\n",
        "if 'Region' in data.columns:\n",
        "    data = data.drop('Region', axis=1)\n",
        "    print(\"Column 'Region' dropped successfully.\")\n",
        "else:\n",
        "    print(\"Column 'Region' not found in the DataFrame.\")\n",
        "\n",
        "# Display the updated DataFrame (optional)\n",
        "print(data.head())"
      ],
      "metadata": {
        "colab": {
          "base_uri": "https://localhost:8080/"
        },
        "id": "UwLRNgELTl6K",
        "outputId": "58d506b7-286f-42d1-b234-b651e06f0078"
      },
      "execution_count": 73,
      "outputs": [
        {
          "output_type": "stream",
          "name": "stdout",
          "text": [
            "Column 'Region' not found in the DataFrame.\n",
            "   Transaction ID        Date Customer ID  Gender  Age Product Category  \\\n",
            "0               1  2023-11-24     CUST001    Male   34           Beauty   \n",
            "1               2  2023-02-27     CUST002  Female   26         Clothing   \n",
            "2               3  2023-01-13     CUST003    Male   50      Electronics   \n",
            "3               4  2023-05-21     CUST004    Male   37         Clothing   \n",
            "4               5  2023-05-06     CUST005    Male   30           Beauty   \n",
            "\n",
            "   Quantity  Price per Unit  Total Amount  \n",
            "0         3              50           150  \n",
            "1         2             500          1000  \n",
            "2         1              30            30  \n",
            "3         1             500           500  \n",
            "4         2              50           100  \n"
          ]
        }
      ]
    },
    {
      "cell_type": "markdown",
      "source": [
        "# **Task-4:Drop the first two rows using drop(axis=0).**"
      ],
      "metadata": {
        "id": "1zCt8Uf2Vty6"
      }
    },
    {
      "cell_type": "code",
      "source": [
        "# prompt: Drop the first two rows using drop(axis=0).\n",
        "\n",
        "# Assuming 'data' DataFrame is already loaded and processed as in the previous code.\n",
        "\n",
        "# Drop the first two rows\n",
        "data = data.drop(index=[0, 1])\n",
        "\n",
        "# Display the updated DataFrame (optional)\n",
        "print(data.head())"
      ],
      "metadata": {
        "colab": {
          "base_uri": "https://localhost:8080/"
        },
        "id": "7SG-1E3STu6Z",
        "outputId": "2d0203ac-d908-4e8b-ca32-24f73ebaad66"
      },
      "execution_count": 74,
      "outputs": [
        {
          "output_type": "stream",
          "name": "stdout",
          "text": [
            "   Transaction ID        Date Customer ID  Gender  Age Product Category  \\\n",
            "2               3  2023-01-13     CUST003    Male   50      Electronics   \n",
            "3               4  2023-05-21     CUST004    Male   37         Clothing   \n",
            "4               5  2023-05-06     CUST005    Male   30           Beauty   \n",
            "5               6  2023-04-25     CUST006  Female   45           Beauty   \n",
            "6               7  2023-03-13     CUST007    Male   46         Clothing   \n",
            "\n",
            "   Quantity  Price per Unit  Total Amount  \n",
            "2         1              30            30  \n",
            "3         1             500           500  \n",
            "4         2              50           100  \n",
            "5         1              30            30  \n",
            "6         2              25            50  \n"
          ]
        }
      ]
    },
    {
      "cell_type": "markdown",
      "source": [
        "# **Summary:**"
      ],
      "metadata": {
        "id": "oeIXezxsT2oZ"
      }
    },
    {
      "cell_type": "markdown",
      "source": [
        "# ***### Code and Results for Each Operation:***\n",
        "\n",
        "1. **Filter Sales Data by Date**:\n",
        "   - We used `loc` to get sales data for a specific time period.\n",
        "   - Result: Only the sales within that date range are shown.\n",
        "\n",
        "2. **Get First 10 Rows**:\n",
        "   - We used `iloc` to show the first 10 rows of data.\n",
        "   - Result: Display the first 10 records.\n",
        "\n",
        "3. **Remove the \"Region\" Column**:\n",
        "   - We used `drop(axis=1)` to remove the \"Region\" column.\n",
        "   - Result: The dataset no longer has the \"Region\" column.\n",
        "\n",
        "4. **Remove the First Two Rows**:\n",
        "   - We used `drop(axis=0)` to remove the first two rows.\n",
        "   - Result: The dataset without the first two rows.\n",
        "\n",
        "These operations help simplify and organize the dataset for analysis."
      ],
      "metadata": {
        "id": "F2CzsmVDT6DK"
      }
    },
    {
      "cell_type": "markdown",
      "source": [
        "# **When to Use `loc` vs `iloc`:**\n",
        "\n",
        "- **`loc`**: Use `loc` when you want to select data based on **labels** (e.g., row names or column names).\n",
        "   - Example: `df.loc[2]` selects the row with index 2.\n",
        "   \n",
        "- **`iloc`**: Use `iloc` when you want to select data based on **position** (e.g., the first row, second column).\n",
        "   - Example: `df.iloc[0]` selects the first row.\n",
        "\n",
        "In short:\n",
        "- Use `loc` for label-based selection.\n",
        "- Use `iloc` for position-based selection."
      ],
      "metadata": {
        "id": "8n8A4zYEUTuo"
      }
    },
    {
      "cell_type": "markdown",
      "source": [
        "# **7. Insights and Reporting**"
      ],
      "metadata": {
        "id": "HY0BJUAIUYWR"
      }
    },
    {
      "cell_type": "markdown",
      "source": [
        "# ***###  Summary of Key Insights from the Retail Sales Analysis***\n",
        "\n",
        "The analysis of the retail sales dataset provided important insights to improve business strategies:\n",
        "\n",
        "1. **Data Cleaning**: Missing values were handled by imputing with the median/mean for numerical columns and the mode for categorical ones. Duplicates were removed to ensure clean data.\n",
        "\n",
        "2. **Key Distributions**:\n",
        "   - Most sales involve smaller quantities, with **Electronics** and **Clothing** being the most popular product categories.\n",
        "   - **Region A** contributes the most to sales, highlighting the importance of this region.\n",
        "\n",
        "3. **Sales Trends**: Sales peak during the **Winter season** and on **Mondays** or the **1st of the month**, indicating strong seasonal and time-based patterns.\n",
        "\n",
        "4. **Correlation Insights**: **Sales** and **Quantity** are strongly correlated, while **Discounts** negatively affect sales prices but might drive volume.\n",
        "\n",
        "5. **Recommendations**: Focus on high-performing regions and popular categories like **Electronics** and **Clothing**, and capitalize on seasonal sales trends for targeted promotions.\n",
        "\n",
        "These insights can help improve sales strategies and guide business decisions."
      ],
      "metadata": {
        "id": "tsK5z48PU084"
      }
    },
    {
      "cell_type": "markdown",
      "source": [
        "#***## Simple Recommendations for Improving Sales***\n",
        "1. **Focus on Region A**: Since **Region A** contributes the most to sales, consider increasing marketing efforts or offering promotions in this region to boost sales even further.\n",
        "\n",
        "2. **Promote Popular Categories**: **Electronics** and **Clothing** are the most frequently sold categories. Increase stock, marketing, and discounts in these categories to drive more sales.\n",
        "\n",
        "3. **Capitalize on Seasonal Trends**: Sales peak in **Winter**. Plan special promotions or discounts during this season to maximize revenue.\n",
        "\n",
        "4. **Optimize for Key Days**: Sales are higher on **Mondays** and the **1st of the month**. Run targeted promotions or deals on these days to capture more sales.\n",
        "\n",
        "By focusing on these areas, the company can improve sales performance and better meet customer demand."
      ],
      "metadata": {
        "id": "6_eBsp8MVHOQ"
      }
    },
    {
      "cell_type": "markdown",
      "source": [
        "# **### Retail Sales Insights**\n",
        "\n",
        "**Data Cleaning**:  \n",
        "- Missing values were imputed, and duplicates were removed.\n",
        "\n",
        "**Key Insights**:  \n",
        "- **Electronics** and **Clothing** are the top-selling categories.\n",
        "- **Region A** generates the most sales.\n",
        "- Sales peak in **Winter** and on **Mondays**/**1st of the month**.\n",
        "\n",
        "**Recommendations**:  \n",
        "1. Focus on **Region A**.\n",
        "2. Promote **Electronics** and **Clothing**.\n",
        "3. Run Winter promotions and deals on high-sale days.\n",
        "\n",
        "**Conclusion**:  \n",
        "Targeting high-performing regions, categories, and seasonal trends will boost sales."
      ],
      "metadata": {
        "id": "KTBKxQcua4CG"
      }
    }
  ]
}