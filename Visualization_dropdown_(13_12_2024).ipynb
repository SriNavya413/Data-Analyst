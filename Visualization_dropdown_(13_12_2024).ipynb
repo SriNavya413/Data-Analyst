{
  "nbformat": 4,
  "nbformat_minor": 0,
  "metadata": {
    "colab": {
      "provenance": [],
      "authorship_tag": "ABX9TyP6Aj+2Lb63Z2ryV7gGMXc8",
      "include_colab_link": true
    },
    "kernelspec": {
      "name": "python3",
      "display_name": "Python 3"
    },
    "language_info": {
      "name": "python"
    }
  },
  "cells": [
    {
      "cell_type": "markdown",
      "metadata": {
        "id": "view-in-github",
        "colab_type": "text"
      },
      "source": [
        "<a href=\"https://colab.research.google.com/github/SriNavya413/Data-Analyst/blob/main/Visualization_dropdown_(13_12_2024).ipynb\" target=\"_parent\"><img src=\"https://colab.research.google.com/assets/colab-badge.svg\" alt=\"Open In Colab\"/></a>"
      ]
    },
    {
      "cell_type": "markdown",
      "source": [
        "# ***Read the data through API***"
      ],
      "metadata": {
        "id": "_XOI2mEUSo19"
      }
    },
    {
      "cell_type": "code",
      "execution_count": 1,
      "metadata": {
        "id": "8rcvKv43Fd15"
      },
      "outputs": [],
      "source": [
        "import numpy as np"
      ]
    },
    {
      "cell_type": "code",
      "source": [
        "import pandas as pd"
      ],
      "metadata": {
        "id": "Rc7PWj9hFhEL"
      },
      "execution_count": 2,
      "outputs": []
    },
    {
      "cell_type": "code",
      "source": [
        "!pip install dash"
      ],
      "metadata": {
        "colab": {
          "base_uri": "https://localhost:8080/"
        },
        "id": "8z1dSfJyIXMX",
        "outputId": "e83fe9ec-028c-4fb6-f74d-5a4ebad61fee"
      },
      "execution_count": 12,
      "outputs": [
        {
          "output_type": "stream",
          "name": "stdout",
          "text": [
            "Collecting dash\n",
            "  Downloading dash-2.18.2-py3-none-any.whl.metadata (10 kB)\n",
            "Requirement already satisfied: Flask<3.1,>=1.0.4 in /usr/local/lib/python3.10/dist-packages (from dash) (3.0.3)\n",
            "Collecting Werkzeug<3.1 (from dash)\n",
            "  Downloading werkzeug-3.0.6-py3-none-any.whl.metadata (3.7 kB)\n",
            "Requirement already satisfied: plotly>=5.0.0 in /usr/local/lib/python3.10/dist-packages (from dash) (5.24.1)\n",
            "Collecting dash-html-components==2.0.0 (from dash)\n",
            "  Downloading dash_html_components-2.0.0-py3-none-any.whl.metadata (3.8 kB)\n",
            "Collecting dash-core-components==2.0.0 (from dash)\n",
            "  Downloading dash_core_components-2.0.0-py3-none-any.whl.metadata (2.9 kB)\n",
            "Collecting dash-table==5.0.0 (from dash)\n",
            "  Downloading dash_table-5.0.0-py3-none-any.whl.metadata (2.4 kB)\n",
            "Requirement already satisfied: importlib-metadata in /usr/local/lib/python3.10/dist-packages (from dash) (8.5.0)\n",
            "Requirement already satisfied: typing-extensions>=4.1.1 in /usr/local/lib/python3.10/dist-packages (from dash) (4.12.2)\n",
            "Requirement already satisfied: requests in /usr/local/lib/python3.10/dist-packages (from dash) (2.32.3)\n",
            "Collecting retrying (from dash)\n",
            "  Downloading retrying-1.3.4-py3-none-any.whl.metadata (6.9 kB)\n",
            "Requirement already satisfied: nest-asyncio in /usr/local/lib/python3.10/dist-packages (from dash) (1.6.0)\n",
            "Requirement already satisfied: setuptools in /usr/local/lib/python3.10/dist-packages (from dash) (75.1.0)\n",
            "Requirement already satisfied: Jinja2>=3.1.2 in /usr/local/lib/python3.10/dist-packages (from Flask<3.1,>=1.0.4->dash) (3.1.4)\n",
            "Requirement already satisfied: itsdangerous>=2.1.2 in /usr/local/lib/python3.10/dist-packages (from Flask<3.1,>=1.0.4->dash) (2.2.0)\n",
            "Requirement already satisfied: click>=8.1.3 in /usr/local/lib/python3.10/dist-packages (from Flask<3.1,>=1.0.4->dash) (8.1.7)\n",
            "Requirement already satisfied: blinker>=1.6.2 in /usr/local/lib/python3.10/dist-packages (from Flask<3.1,>=1.0.4->dash) (1.9.0)\n",
            "Requirement already satisfied: tenacity>=6.2.0 in /usr/local/lib/python3.10/dist-packages (from plotly>=5.0.0->dash) (9.0.0)\n",
            "Requirement already satisfied: packaging in /usr/local/lib/python3.10/dist-packages (from plotly>=5.0.0->dash) (24.2)\n",
            "Requirement already satisfied: MarkupSafe>=2.1.1 in /usr/local/lib/python3.10/dist-packages (from Werkzeug<3.1->dash) (3.0.2)\n",
            "Requirement already satisfied: zipp>=3.20 in /usr/local/lib/python3.10/dist-packages (from importlib-metadata->dash) (3.21.0)\n",
            "Requirement already satisfied: charset-normalizer<4,>=2 in /usr/local/lib/python3.10/dist-packages (from requests->dash) (3.4.0)\n",
            "Requirement already satisfied: idna<4,>=2.5 in /usr/local/lib/python3.10/dist-packages (from requests->dash) (3.10)\n",
            "Requirement already satisfied: urllib3<3,>=1.21.1 in /usr/local/lib/python3.10/dist-packages (from requests->dash) (2.2.3)\n",
            "Requirement already satisfied: certifi>=2017.4.17 in /usr/local/lib/python3.10/dist-packages (from requests->dash) (2024.8.30)\n",
            "Requirement already satisfied: six>=1.7.0 in /usr/local/lib/python3.10/dist-packages (from retrying->dash) (1.17.0)\n",
            "Downloading dash-2.18.2-py3-none-any.whl (7.8 MB)\n",
            "\u001b[2K   \u001b[90m━━━━━━━━━━━━━━━━━━━━━━━━━━━━━━━━━━━━━━━━\u001b[0m \u001b[32m7.8/7.8 MB\u001b[0m \u001b[31m55.8 MB/s\u001b[0m eta \u001b[36m0:00:00\u001b[0m\n",
            "\u001b[?25hDownloading dash_core_components-2.0.0-py3-none-any.whl (3.8 kB)\n",
            "Downloading dash_html_components-2.0.0-py3-none-any.whl (4.1 kB)\n",
            "Downloading dash_table-5.0.0-py3-none-any.whl (3.9 kB)\n",
            "Downloading werkzeug-3.0.6-py3-none-any.whl (227 kB)\n",
            "\u001b[2K   \u001b[90m━━━━━━━━━━━━━━━━━━━━━━━━━━━━━━━━━━━━━━━━\u001b[0m \u001b[32m228.0/228.0 kB\u001b[0m \u001b[31m20.2 MB/s\u001b[0m eta \u001b[36m0:00:00\u001b[0m\n",
            "\u001b[?25hDownloading retrying-1.3.4-py3-none-any.whl (11 kB)\n",
            "Installing collected packages: dash-table, dash-html-components, dash-core-components, Werkzeug, retrying, dash\n",
            "  Attempting uninstall: Werkzeug\n",
            "    Found existing installation: Werkzeug 3.1.3\n",
            "    Uninstalling Werkzeug-3.1.3:\n",
            "      Successfully uninstalled Werkzeug-3.1.3\n",
            "Successfully installed Werkzeug-3.0.6 dash-2.18.2 dash-core-components-2.0.0 dash-html-components-2.0.0 dash-table-5.0.0 retrying-1.3.4\n"
          ]
        }
      ]
    },
    {
      "cell_type": "code",
      "source": [
        "\n",
        "\n",
        "# Replace with your actual city and API key\n",
        "CITY = \"London\"\n",
        "API_KEY = \"fbbc991ccb6b1511499935dafd46372b\"\n",
        "http://api.openweathermap.org/data/2.5/weather?q={CITY}&appid={API_KEY}&units=metric"
      ],
      "metadata": {
        "id": "TLMfQKMrGsMp"
      },
      "execution_count": 9,
      "outputs": []
    },
    {
      "cell_type": "code",
      "source": [
        "data"
      ],
      "metadata": {
        "colab": {
          "base_uri": "https://localhost:8080/",
          "height": 463
        },
        "id": "CI9lK50xG69Z",
        "outputId": "b21c6f8f-84bd-477a-d0d5-7dd3a028d9af"
      },
      "execution_count": 8,
      "outputs": [
        {
          "output_type": "execute_result",
          "data": {
            "text/plain": [
              "Empty DataFrame\n",
              "Columns: [<!doctype html><html lang=\"en-US\" dir=\"ltr\" class=\"ltr\"><head><meta http-equiv=\"Content-Type\" content=\"text/html; charset=utf-8\"><meta http-equiv=\"X-UA-Compatible\" content=\"IE=edge\"><meta name=\"googlebot\" content=\"noindex,  nofollow\"><meta name=\"robots\" content=\"noindex,  nofollow\"><meta name=\"viewport\" content=\"width=device-width, initial-scale=1\"><link rel=\"shortcut icon\" href=\"https://statics.teams.cdn.office.net/hashedassets-launcher/favicon/favicon.ico\" type=\"image/x-icon\"><link rel=\"apple-touch-icon\" href=\"https://statics.teams.cdn.office.net/hashedassets-launcher/favicon/favicon-96x96.png\"><link rel=\"apple-touch-icon\" sizes=\"16x16\" href=\"https://statics.teams.cdn.office.net/hashedassets-launcher/favicon/favicon-16x16.png\"><link rel=\"apple-touch-icon\" sizes=\"32x32\" href=\"https://statics.teams.cdn.office.net/hashedassets-launcher/favicon/favicon-32x32.png\"><link rel=\"apple-touch-icon\" sizes=\"96x96\" href=\"https://statics.teams.cdn.office.net/hashedassets-launcher/favicon/favicon-96x96.png\"><meta property=\"placeholder\"><meta property=\"og:site_name\" content=\"Microsoft Teams\"><meta property=\"og:image\" content=\"https://statics.teams.cdn.office.net/hashedassets-launcher/favicon/favicon-96x96.png\"><title>Join conversation</title><script nonce=\"0PFzTajsigsi0UTCaa9y5g==\">window.I18NBUNDLE={hdr_launch_title:\"Join conversation\", hdr_launch_title_meeting:\"Join meeting\", hdr_launch_title_broadcast:\"Join live event\", hdr_broadcast_title:\"Join live event\", hdr_welcome_header:\"Experience the best of Teams meetings with the desktop app\", hdr_welcome2_header:\"Stay better connected with the Teams desktop app\", hdr_broadcast_welcome_header:\"Watch the live event in Microsoft Teams\", hdr_generic_download_btn:\"Download\", hdr_windows_download_btn:\"Download the Windows app\", hdr_mac_download_btn:\"Download the Mac app\", hdr_windows_get_btn:\"Get the Windows app\", hdr_btn_join_on_web:\"Join on the web instead\", hdr_btn_join_in_this_browser:\"Join in this browser instead\", hdr_btn_join_in_this_browser_tooltip:\"If you join here,  you'll have to use your phone for audio\", hdr_btn_join_in_edge:\"Join in Microsoft Edge\", hdr_btn_learn_more:\"Learn more\", hdr_btn_launch_open_teams:\"Use the web app instead\", hdr_watch_broadcast_btn:\"Watch on the web instead\", hdr_try_again_text:\"Already have the Teams app?\", hdr_lnk_launch_skype:\"Launch it now\", hdr_mobile_welcome:\"Stay in the loop and access your team's conversations,  files and meeting on the go\", hdr_mobile_welcome2:\"Join meetings from wherever you are\", hdr_mobile_acquire_app:\"Get the Teams app\", hdr_mobile_ask_admin_to_acquire_app:\"Please contact your IT Admin if you do not have the Teams app installed.\", hdr_mobile_try_launch_again:\"Already have the app?\", hdr_mobile_launch_app:\"Open it\", hdr_mobile_first:\"Join your meeting on Microsoft Teams\", hdr_mobile_first_conversation:\"Join the conversation on Microsoft Teams\", hdr_mobile_second:\"First you'll need to download the app.\", hdr_mobile_second_join_conversation_ios:\"Follow these steps to join the conversation:\", hdr_mobile_second_join_conversation_android:\"Install the Teams app to join the conversation.\", hdr_community_thumbnail_title:\"Join community on Teams\", hdr_mobile_community_title:\"Join the community on Microsoft Teams\", hdr_mobile_community_subtitle:\"Follow these steps to join the community:\", hdr_mobile_community_description:\"A space for people to come together,  share,  and get stuff done.\", hdr_mobile_contactsync_first:\"Microsoft Teams\", hdr_mobile_contactsync_second:\"Sync your device contacts with Teams for Windows 11\", txt_mobile_tfl_openapp_button_description:\"Already have Teams?\", txt_mobile_tfl_get_teams:\"New to Teams?\", btn_mobile_tfl_join_teams:\"Open Teams\", txt_mobile_join_conversation_step1:\"Step 1\", txt_mobile_join_conversation_step2:\"Step 2\", btn_mobile_download:\"Get Teams\", txt_mobile_secondary_button_description:\"Already have the app?\", btn_mobile_join_meeting:\"Join meeting\", btn_mobile_join_conversation:\"Join conversation\", btn_mobile_join_community_event:\"Join event\", btn_mobile_join_insiders:\"Join program\", btn_mobile_join_school_connection:\"Join School Connection\", txt_mobile_join_here:\"Join here.\", hdr_unsupported_device_message:\"We are actively working on supporting meetings on this device.\", txt_error_page_explanation:\"Sending one of our engineers to fix it. Give it a couple of minutes and try again.\", txt_unsupported_device_advice:\"In the meantime please join the meeting on a Windows or Mac client.\", hdr_error_page_oops:\"Oops,  something went wrong at our end\", hdr_error_page_title:\"Something went wrong\", hdr_mobile_dod_contact_admin:\"Please contact your IT Admin if you do not have the Teams app installed.\", hdr_disclaimer_android:\"Google Play and the Google Play logo are trademarks of Google LLC.\", hdr_disclaimer_apple:\"Apple,  iTunes,  iPhone,  and iPad are registered trademarks of Apple Inc.,  registered in the U.S. and other countries.\", txt_get_more_help:\"Get more help\", hdr_couldnt_find_mtg:\"We couldn't find that meeting\", hdr_couldnt_find_event:\"We couldn't find that event\", hdr_couldnt_find_other:\"We couldn't find what you're looking for\", txt_try_refresh_page:\"Try refreshing the page or using another link.\", txt_try_calling_number:\"Try calling the phone number on the invite.\", hdr_during_download:\"We're downloading the Teams app!\", txt_during_download:\"Install it after the download is complete.\", txt_during_download_cont:\"If nothing happens, ,txt_during_download_cont_lnk:try again.\", hdr_during_download_auto_download:\"Downloading Teams…\", hdr_post_download:\"Having trouble?\", txt_post_download:\"To join the meeting,  try calling the phone number in the invite or \", txt_post_download_tfl:\"To join,  try\", txt_post_download_lnk:\"downloading the app again.\", txt_post_download_problems:\"Having other problems?\", hdr_coachmark_post_download:\"Install Teams after it downloads.\", txt_coachmark_post_download:\"When you open the app,  you'll join the meeting automatically.\", txt_coachmark_post_download_auto_download:\"You'll join your meeting right away.\", txt_coachmark_unsure_open_teams_hint:\"If you don't see a prompt from your browser to open Teams,  try one of the other options.\", txt_coachmark_open_teams_guidance:\"We couldn't open your Teams app. Join your meeting on the web instead.\", txt_coachmark_open_teams_generic_guidance:\"We couldn't open your Teams app. Join on the web instead.\", txt_link_footer_third_party_disclosures:\"Third-party disclosures\", txt_link_footer_microsoft_teams:\"Microsoft Teams\", txt_link_footer_branding_disclaimer:\"Branding disclaimer\", txt_link_footer_branding_disclaimer_tooltip:\"Brand images aren't verified by Microsoft.\", ...]\n",
              "Index: []\n",
              "\n",
              "[0 rows x 305 columns]"
            ],
            "text/html": [
              "\n",
              "  <div id=\"df-06fd087b-bb04-4bf1-921e-02389e0841e4\" class=\"colab-df-container\">\n",
              "    <div>\n",
              "<style scoped>\n",
              "    .dataframe tbody tr th:only-of-type {\n",
              "        vertical-align: middle;\n",
              "    }\n",
              "\n",
              "    .dataframe tbody tr th {\n",
              "        vertical-align: top;\n",
              "    }\n",
              "\n",
              "    .dataframe thead th {\n",
              "        text-align: right;\n",
              "    }\n",
              "</style>\n",
              "<table border=\"1\" class=\"dataframe\">\n",
              "  <thead>\n",
              "    <tr style=\"text-align: right;\">\n",
              "      <th></th>\n",
              "      <th>&lt;!doctype html&gt;&lt;html lang=\"en-US\" dir=\"ltr\" class=\"ltr\"&gt;&lt;head&gt;&lt;meta http-equiv=\"Content-Type\" content=\"text/html; charset=utf-8\"&gt;&lt;meta http-equiv=\"X-UA-Compatible\" content=\"IE=edge\"&gt;&lt;meta name=\"googlebot\" content=\"noindex</th>\n",
              "      <th>nofollow\"&gt;&lt;meta name=\"robots\" content=\"noindex</th>\n",
              "      <th>nofollow\"&gt;&lt;meta name=\"viewport\" content=\"width=device-width</th>\n",
              "      <th>initial-scale=1\"&gt;&lt;link rel=\"shortcut icon\" href=\"https://statics.teams.cdn.office.net/hashedassets-launcher/favicon/favicon.ico\" type=\"image/x-icon\"&gt;&lt;link rel=\"apple-touch-icon\" href=\"https://statics.teams.cdn.office.net/hashedassets-launcher/favicon/favicon-96x96.png\"&gt;&lt;link rel=\"apple-touch-icon\" sizes=\"16x16\" href=\"https://statics.teams.cdn.office.net/hashedassets-launcher/favicon/favicon-16x16.png\"&gt;&lt;link rel=\"apple-touch-icon\" sizes=\"32x32\" href=\"https://statics.teams.cdn.office.net/hashedassets-launcher/favicon/favicon-32x32.png\"&gt;&lt;link rel=\"apple-touch-icon\" sizes=\"96x96\" href=\"https://statics.teams.cdn.office.net/hashedassets-launcher/favicon/favicon-96x96.png\"&gt;&lt;meta property=\"placeholder\"&gt;&lt;meta property=\"og:site_name\" content=\"Microsoft Teams\"&gt;&lt;meta property=\"og:image\" content=\"https://statics.teams.cdn.office.net/hashedassets-launcher/favicon/favicon-96x96.png\"&gt;&lt;title&gt;Join conversation&lt;/title&gt;&lt;script nonce=\"0PFzTajsigsi0UTCaa9y5g==\"&gt;window.I18NBUNDLE={hdr_launch_title:\"Join conversation\"</th>\n",
              "      <th>hdr_launch_title_meeting:\"Join meeting\"</th>\n",
              "      <th>hdr_launch_title_broadcast:\"Join live event\"</th>\n",
              "      <th>hdr_broadcast_title:\"Join live event\"</th>\n",
              "      <th>hdr_welcome_header:\"Experience the best of Teams meetings with the desktop app\"</th>\n",
              "      <th>hdr_welcome2_header:\"Stay better connected with the Teams desktop app\"</th>\n",
              "      <th>hdr_broadcast_welcome_header:\"Watch the live event in Microsoft Teams\"</th>\n",
              "      <th>...</th>\n",
              "      <th>document.body.appendChild(l)}function loadBundles(o){for(key in bundles)injectScript(bundles[key]</th>\n",
              "      <th>o</th>\n",
              "      <th>!1</th>\n",
              "      <th>anonymous)}function loadPolyfills(){polyfills&amp;&amp;injectScript(polyfills</th>\n",
              "      <th>!1.1</th>\n",
              "      <th>(function(){loadBundles(!1)})</th>\n",
              "      <th>anonymous)}bundles.push(\"https://statics.teams.cdn.office.net/hashedjs-launcher/launcher.0e6beada326dd4cec221.js\")</th>\n",
              "      <th>polyfills=\"https://statics.teams.cdn.office.net/hashedjs-launcher/polyfills.1f5a03d113c6ac7b91f5.js\"</th>\n",
              "      <th>isGlobalThisAvailable||(window.globalThis=window)</th>\n",
              "      <th>loadBundles(!0)}else window.location.href=\"https://www.microsoft.com/en-us/microsoft-teams/download-app\"&lt;/script&gt;&lt;/body&gt;&lt;/html&gt;</th>\n",
              "    </tr>\n",
              "  </thead>\n",
              "  <tbody>\n",
              "  </tbody>\n",
              "</table>\n",
              "<p>0 rows × 305 columns</p>\n",
              "</div>\n",
              "    <div class=\"colab-df-buttons\">\n",
              "\n",
              "  <div class=\"colab-df-container\">\n",
              "    <button class=\"colab-df-convert\" onclick=\"convertToInteractive('df-06fd087b-bb04-4bf1-921e-02389e0841e4')\"\n",
              "            title=\"Convert this dataframe to an interactive table.\"\n",
              "            style=\"display:none;\">\n",
              "\n",
              "  <svg xmlns=\"http://www.w3.org/2000/svg\" height=\"24px\" viewBox=\"0 -960 960 960\">\n",
              "    <path d=\"M120-120v-720h720v720H120Zm60-500h600v-160H180v160Zm220 220h160v-160H400v160Zm0 220h160v-160H400v160ZM180-400h160v-160H180v160Zm440 0h160v-160H620v160ZM180-180h160v-160H180v160Zm440 0h160v-160H620v160Z\"/>\n",
              "  </svg>\n",
              "    </button>\n",
              "\n",
              "  <style>\n",
              "    .colab-df-container {\n",
              "      display:flex;\n",
              "      gap: 12px;\n",
              "    }\n",
              "\n",
              "    .colab-df-convert {\n",
              "      background-color: #E8F0FE;\n",
              "      border: none;\n",
              "      border-radius: 50%;\n",
              "      cursor: pointer;\n",
              "      display: none;\n",
              "      fill: #1967D2;\n",
              "      height: 32px;\n",
              "      padding: 0 0 0 0;\n",
              "      width: 32px;\n",
              "    }\n",
              "\n",
              "    .colab-df-convert:hover {\n",
              "      background-color: #E2EBFA;\n",
              "      box-shadow: 0px 1px 2px rgba(60, 64, 67, 0.3), 0px 1px 3px 1px rgba(60, 64, 67, 0.15);\n",
              "      fill: #174EA6;\n",
              "    }\n",
              "\n",
              "    .colab-df-buttons div {\n",
              "      margin-bottom: 4px;\n",
              "    }\n",
              "\n",
              "    [theme=dark] .colab-df-convert {\n",
              "      background-color: #3B4455;\n",
              "      fill: #D2E3FC;\n",
              "    }\n",
              "\n",
              "    [theme=dark] .colab-df-convert:hover {\n",
              "      background-color: #434B5C;\n",
              "      box-shadow: 0px 1px 3px 1px rgba(0, 0, 0, 0.15);\n",
              "      filter: drop-shadow(0px 1px 2px rgba(0, 0, 0, 0.3));\n",
              "      fill: #FFFFFF;\n",
              "    }\n",
              "  </style>\n",
              "\n",
              "    <script>\n",
              "      const buttonEl =\n",
              "        document.querySelector('#df-06fd087b-bb04-4bf1-921e-02389e0841e4 button.colab-df-convert');\n",
              "      buttonEl.style.display =\n",
              "        google.colab.kernel.accessAllowed ? 'block' : 'none';\n",
              "\n",
              "      async function convertToInteractive(key) {\n",
              "        const element = document.querySelector('#df-06fd087b-bb04-4bf1-921e-02389e0841e4');\n",
              "        const dataTable =\n",
              "          await google.colab.kernel.invokeFunction('convertToInteractive',\n",
              "                                                    [key], {});\n",
              "        if (!dataTable) return;\n",
              "\n",
              "        const docLinkHtml = 'Like what you see? Visit the ' +\n",
              "          '<a target=\"_blank\" href=https://colab.research.google.com/notebooks/data_table.ipynb>data table notebook</a>'\n",
              "          + ' to learn more about interactive tables.';\n",
              "        element.innerHTML = '';\n",
              "        dataTable['output_type'] = 'display_data';\n",
              "        await google.colab.output.renderOutput(dataTable, element);\n",
              "        const docLink = document.createElement('div');\n",
              "        docLink.innerHTML = docLinkHtml;\n",
              "        element.appendChild(docLink);\n",
              "      }\n",
              "    </script>\n",
              "  </div>\n",
              "\n",
              "\n",
              "  <div id=\"id_a5d5ae85-b6e2-4f79-ae9d-02694ffed41d\">\n",
              "    <style>\n",
              "      .colab-df-generate {\n",
              "        background-color: #E8F0FE;\n",
              "        border: none;\n",
              "        border-radius: 50%;\n",
              "        cursor: pointer;\n",
              "        display: none;\n",
              "        fill: #1967D2;\n",
              "        height: 32px;\n",
              "        padding: 0 0 0 0;\n",
              "        width: 32px;\n",
              "      }\n",
              "\n",
              "      .colab-df-generate:hover {\n",
              "        background-color: #E2EBFA;\n",
              "        box-shadow: 0px 1px 2px rgba(60, 64, 67, 0.3), 0px 1px 3px 1px rgba(60, 64, 67, 0.15);\n",
              "        fill: #174EA6;\n",
              "      }\n",
              "\n",
              "      [theme=dark] .colab-df-generate {\n",
              "        background-color: #3B4455;\n",
              "        fill: #D2E3FC;\n",
              "      }\n",
              "\n",
              "      [theme=dark] .colab-df-generate:hover {\n",
              "        background-color: #434B5C;\n",
              "        box-shadow: 0px 1px 3px 1px rgba(0, 0, 0, 0.15);\n",
              "        filter: drop-shadow(0px 1px 2px rgba(0, 0, 0, 0.3));\n",
              "        fill: #FFFFFF;\n",
              "      }\n",
              "    </style>\n",
              "    <button class=\"colab-df-generate\" onclick=\"generateWithVariable('data')\"\n",
              "            title=\"Generate code using this dataframe.\"\n",
              "            style=\"display:none;\">\n",
              "\n",
              "  <svg xmlns=\"http://www.w3.org/2000/svg\" height=\"24px\"viewBox=\"0 0 24 24\"\n",
              "       width=\"24px\">\n",
              "    <path d=\"M7,19H8.4L18.45,9,17,7.55,7,17.6ZM5,21V16.75L18.45,3.32a2,2,0,0,1,2.83,0l1.4,1.43a1.91,1.91,0,0,1,.58,1.4,1.91,1.91,0,0,1-.58,1.4L9.25,21ZM18.45,9,17,7.55Zm-12,3A5.31,5.31,0,0,0,4.9,8.1,5.31,5.31,0,0,0,1,6.5,5.31,5.31,0,0,0,4.9,4.9,5.31,5.31,0,0,0,6.5,1,5.31,5.31,0,0,0,8.1,4.9,5.31,5.31,0,0,0,12,6.5,5.46,5.46,0,0,0,6.5,12Z\"/>\n",
              "  </svg>\n",
              "    </button>\n",
              "    <script>\n",
              "      (() => {\n",
              "      const buttonEl =\n",
              "        document.querySelector('#id_a5d5ae85-b6e2-4f79-ae9d-02694ffed41d button.colab-df-generate');\n",
              "      buttonEl.style.display =\n",
              "        google.colab.kernel.accessAllowed ? 'block' : 'none';\n",
              "\n",
              "      buttonEl.onclick = () => {\n",
              "        google.colab.notebook.generateWithVariable('data');\n",
              "      }\n",
              "      })();\n",
              "    </script>\n",
              "  </div>\n",
              "\n",
              "    </div>\n",
              "  </div>\n"
            ],
            "application/vnd.google.colaboratory.intrinsic+json": {
              "type": "dataframe",
              "variable_name": "data"
            }
          },
          "metadata": {},
          "execution_count": 8
        }
      ]
    },
    {
      "cell_type": "markdown",
      "source": [
        "# **How many cities are available on data**"
      ],
      "metadata": {
        "id": "-0ceRH3ASxs0"
      }
    },
    {
      "cell_type": "code",
      "source": [
        "# prompt: what are the cities availablel\n",
        "\n",
        "import numpy as np\n",
        "import pandas as pd\n",
        "\n",
        "# Assuming 'data' is a pandas DataFrame with a 'city' column\n",
        "# Replace with your actual city and API key\n",
        "\n",
        "API_KEY = \"fbbc991ccb6b1511499935dafd46372b\"\n",
        "\n",
        "# Assuming 'data' is defined somewhere above\n",
        "# Example usage with a sample DataFrame\n",
        "data = pd.DataFrame({'city': ['London', 'Paris', 'New York', 'Tokyo', 'London']})\n",
        "\n",
        "cities = data['city'].unique()\n",
        "cities"
      ],
      "metadata": {
        "colab": {
          "base_uri": "https://localhost:8080/"
        },
        "id": "21u4IH_LHKNZ",
        "outputId": "ce92c1f0-d684-4020-b49c-6e64a07e666b"
      },
      "execution_count": 10,
      "outputs": [
        {
          "output_type": "execute_result",
          "data": {
            "text/plain": [
              "array(['London', 'Paris', 'New York', 'Tokyo'], dtype=object)"
            ]
          },
          "metadata": {},
          "execution_count": 10
        }
      ]
    },
    {
      "cell_type": "markdown",
      "source": [
        "# **when we select the city it will automatically show the graph.**"
      ],
      "metadata": {
        "id": "2GhXjgBaPBlA"
      }
    },
    {
      "cell_type": "code",
      "source": [
        "import requests\n",
        "import dash\n",
        "from dash import dcc, html\n",
        "from dash.dependencies import Input, Output\n",
        "\n",
        "# OpenWeatherMap API key\n",
        "API_KEY = \"fbbc991ccb6b1511499935dafd46372b\"\n",
        "\n",
        "# Cities list\n",
        "cities = [\"London\", \"New York\", \"Tokyo\", \"Sydney\", \"Mumbai\"]\n",
        "\n",
        "# Function to get weather data\n",
        "def fetch_weather(city):\n",
        "    url = f\"http://api.openweathermap.org/data/2.5/weather?q={city}&appid={API_KEY}&units=metric\"\n",
        "    response = requests.get(url)\n",
        "    if response.status_code == 200:\n",
        "        data = response.json()\n",
        "        return {\n",
        "            \"Temperature\": data[\"main\"][\"temp\"],\n",
        "            \"Feels Like\": data[\"main\"][\"feels_like\"],\n",
        "            \"Humidity\": data[\"main\"][\"humidity\"],\n",
        "            \"Wind Speed\": data[\"wind\"][\"speed\"],\n",
        "        }\n",
        "    return None\n",
        "\n",
        "# Initialize Dash app\n",
        "app = dash.Dash(__name__)\n",
        "\n",
        "# App layout\n",
        "app.layout = html.Div([\n",
        "    html.H1(\"City Weather Viewer\", style={'text-align': 'center'}),\n",
        "    dcc.Dropdown(\n",
        "        id='city-dropdown',\n",
        "        options=[{'label': city, 'value': city} for city in cities],\n",
        "        value='London',\n",
        "        style={'width': '50%'}\n",
        "    ),\n",
        "    dcc.Graph(id='weather-graph')\n",
        "])\n",
        "\n",
        "# Update graph based on city selection\n",
        "@app.callback(\n",
        "    Output('weather-graph', 'figure'),\n",
        "    Input('city-dropdown', 'value')\n",
        ")\n",
        "def update_graph(city):\n",
        "    weather = fetch_weather(city)\n",
        "    if weather:\n",
        "        return {\n",
        "            'data': [{'x': list(weather.keys()), 'y': list(weather.values()), 'type': 'bar'}],\n",
        "            'layout': {'title': f\"Weather in {city}\"}\n",
        "        }\n",
        "    return {'data': [], 'layout': {'title': f\"No data for {city}\"}}\n",
        "\n",
        "# Run the app\n",
        "if __name__ == '__main__':\n",
        "    app.run_server(debug=True)\n"
      ],
      "metadata": {
        "colab": {
          "base_uri": "https://localhost:8080/",
          "height": 671
        },
        "id": "rIvNmMXdIOFB",
        "outputId": "aa784845-d979-483b-cc92-55c62053a2f7"
      },
      "execution_count": 13,
      "outputs": [
        {
          "output_type": "display_data",
          "data": {
            "text/plain": [
              "<IPython.core.display.Javascript object>"
            ],
            "application/javascript": [
              "(async (port, path, width, height, cache, element) => {\n",
              "    if (!google.colab.kernel.accessAllowed && !cache) {\n",
              "      return;\n",
              "    }\n",
              "    element.appendChild(document.createTextNode(''));\n",
              "    const url = await google.colab.kernel.proxyPort(port, {cache});\n",
              "    const iframe = document.createElement('iframe');\n",
              "    iframe.src = new URL(path, url).toString();\n",
              "    iframe.height = height;\n",
              "    iframe.width = width;\n",
              "    iframe.style.border = 0;\n",
              "    iframe.allow = [\n",
              "        'accelerometer',\n",
              "        'autoplay',\n",
              "        'camera',\n",
              "        'clipboard-read',\n",
              "        'clipboard-write',\n",
              "        'gyroscope',\n",
              "        'magnetometer',\n",
              "        'microphone',\n",
              "        'serial',\n",
              "        'usb',\n",
              "        'xr-spatial-tracking',\n",
              "    ].join('; ');\n",
              "    element.appendChild(iframe);\n",
              "  })(8050, \"/\", \"100%\", 650, false, window.element)"
            ]
          },
          "metadata": {}
        }
      ]
    }
  ]
}